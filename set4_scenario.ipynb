{
 "cells": [
  {
   "cell_type": "code",
   "execution_count": 7,
   "id": "ad6c93d2-76a4-4e9a-b8da-a7b38b372b95",
   "metadata": {},
   "outputs": [
    {
     "name": "stdin",
     "output_type": "stream",
     "text": [
      "enter a number 60\n",
      "enter a number 36\n"
     ]
    },
    {
     "name": "stdout",
     "output_type": "stream",
     "text": [
      "gcd is: 12\n"
     ]
    }
   ],
   "source": [
    "a=int(input(\"enter a number\"))\n",
    "b=int(input(\"enter a number\"))\n",
    "while b!=0:\n",
    "    a,b=b,a%b\n",
    "print(\"gcd is:\",a)"
   ]
  },
  {
   "cell_type": "code",
   "execution_count": 9,
   "id": "8b397e6c-0a58-4e3b-aec0-00321fcab531",
   "metadata": {},
   "outputs": [
    {
     "name": "stdout",
     "output_type": "stream",
     "text": [
      "BOY, GIRL, MAN, WOMAN\n"
     ]
    }
   ],
   "source": [
    "givenlist=[\"boy, girl, man, woman\"]\n",
    "for i in givenlist:\n",
    "    print(i.upper())"
   ]
  },
  {
   "cell_type": "code",
   "execution_count": 7,
   "id": "186d2565-ce64-4967-b8d7-1ded8ed1f379",
   "metadata": {},
   "outputs": [
    {
     "data": {
      "text/plain": [
       "120"
      ]
     },
     "execution_count": 7,
     "metadata": {},
     "output_type": "execute_result"
    }
   ],
   "source": [
    "def factorial(n):\n",
    "    if n == 0 or n == 1:\n",
    "        return 1\n",
    "    else:\n",
    "        fact=n * factorial(n - 1)\n",
    "        return fact\n",
    "\n",
    "factorial(5)"
   ]
  },
  {
   "cell_type": "code",
   "execution_count": 9,
   "id": "2d50b588-072d-4029-a874-10cca1d1cfcc",
   "metadata": {},
   "outputs": [
    {
     "name": "stdin",
     "output_type": "stream",
     "text": [
      "enter the string i love my daughter\n"
     ]
    },
    {
     "name": "stdout",
     "output_type": "stream",
     "text": [
      "4\n"
     ]
    }
   ],
   "source": [
    "given_string=input(\"enter the string\")\n",
    "word_list=given_string.split()\n",
    "word_count=(len(word_list))\n",
    "print(word_count)"
   ]
  },
  {
   "cell_type": "code",
   "execution_count": 33,
   "id": "2cdaf2fc-59c5-489f-9b29-cba7e0697545",
   "metadata": {},
   "outputs": [
    {
     "name": "stdin",
     "output_type": "stream",
     "text": [
      "enter a number 156\n"
     ]
    },
    {
     "name": "stdout",
     "output_type": "stream",
     "text": [
      "651"
     ]
    }
   ],
   "source": [
    "\n",
    "def reverse(num):\n",
    "    digits=[int(i) for i in str(num)]\n",
    "    for i in digits[::-1]:\n",
    "        print(i,end=\"\")\n",
    "\n",
    "num=int(input(\"enter a number\"))\n",
    "reverse(num)"
   ]
  },
  {
   "cell_type": "code",
   "execution_count": 41,
   "id": "ddde5e58-ae4d-44f7-9c9d-cf5e31e8dc8b",
   "metadata": {},
   "outputs": [
    {
     "name": "stdout",
     "output_type": "stream",
     "text": [
      "{2, 3, 5}\n"
     ]
    }
   ],
   "source": [
    "a=[1,2,3,5,6,7]\n",
    "b=[8,3,5,2,3,9]\n",
    "seta=set(a)\n",
    "setb=set(b)\n",
    "print(seta & setb)"
   ]
  },
  {
   "cell_type": "code",
   "execution_count": 47,
   "id": "63aac76d-56cd-4f45-9784-bf33fac8a22f",
   "metadata": {},
   "outputs": [
    {
     "name": "stdin",
     "output_type": "stream",
     "text": [
      "enter the string: pprogram\n"
     ]
    },
    {
     "name": "stdout",
     "output_type": "stream",
     "text": [
      "o\n"
     ]
    }
   ],
   "source": [
    "def non_repeat(given_string):   \n",
    "    dup=[]\n",
    "    for i in given_string:\n",
    "        count=given_string.count(i)\n",
    "        if count==1:\n",
    "            break\n",
    "    print(i)\n",
    "\n",
    "givenstring=input(\"enter the string:\")\n",
    "non_repeat(givenstring)\n",
    "\n",
    "        \n",
    "        "
   ]
  },
  {
   "cell_type": "code",
   "execution_count": 77,
   "id": "53459e5e-6844-445d-836d-8206648be272",
   "metadata": {},
   "outputs": [
    {
     "name": "stdout",
     "output_type": "stream",
     "text": [
      "56\n"
     ]
    }
   ],
   "source": [
    "givenlist=[22,45,67,56,56]\n",
    "dup=[]\n",
    "for i in givenlist:\n",
    "    if i not in dup:\n",
    "        dup.append(i)\n",
    "dup.sort()\n",
    "print(dup[-2])\n"
   ]
  },
  {
   "cell_type": "code",
   "execution_count": 81,
   "id": "fc82bb78-8440-4aa3-9b43-d1925912150e",
   "metadata": {},
   "outputs": [
    {
     "name": "stdin",
     "output_type": "stream",
     "text": [
      "enter a number 34\n"
     ]
    },
    {
     "name": "stdout",
     "output_type": "stream",
     "text": [
      "100010\n"
     ]
    }
   ],
   "source": [
    "number=int(input(\"enter a number\"))\n",
    "binary=format(number,'b')\n",
    "print(binary)"
   ]
  },
  {
   "cell_type": "code",
   "execution_count": 99,
   "id": "143cd36b-c1a7-47de-8e10-aee16224fefc",
   "metadata": {},
   "outputs": [
    {
     "name": "stdout",
     "output_type": "stream",
     "text": [
      "[1, 2, 2, 3, 3, 4, 5, 5, 6, 6, 7, 7]\n"
     ]
    }
   ],
   "source": [
    "list1=[1,4,5,6,7,2,3]\n",
    "list2=[5,6,7,2,3]\n",
    "list1.sort()\n",
    "list2.sort()\n",
    "list3=list1+list2\n",
    "list3.sort()\n",
    "print(list3)"
   ]
  },
  {
   "cell_type": "code",
   "execution_count": null,
   "id": "006ca309-7b76-4aa3-baf2-2c2374031127",
   "metadata": {},
   "outputs": [],
   "source": []
  }
 ],
 "metadata": {
  "kernelspec": {
   "display_name": "Python [conda env:base] *",
   "language": "python",
   "name": "conda-base-py"
  },
  "language_info": {
   "codemirror_mode": {
    "name": "ipython",
    "version": 3
   },
   "file_extension": ".py",
   "mimetype": "text/x-python",
   "name": "python",
   "nbconvert_exporter": "python",
   "pygments_lexer": "ipython3",
   "version": "3.12.7"
  }
 },
 "nbformat": 4,
 "nbformat_minor": 5
}
