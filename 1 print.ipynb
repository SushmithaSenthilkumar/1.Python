{
 "cells": [
  {
   "cell_type": "code",
   "execution_count": 1,
   "id": "3d7c442b-0aad-45a1-897d-df302965bd92",
   "metadata": {},
   "outputs": [
    {
     "name": "stdout",
     "output_type": "stream",
     "text": [
      "lets do it sushmi\n"
     ]
    }
   ],
   "source": [
    "print(\"lets do it sushmi\")"
   ]
  },
  {
   "cell_type": "code",
   "execution_count": 3,
   "id": "28ba7794-8fc8-4018-ad20-556b7d3d63a7",
   "metadata": {},
   "outputs": [
    {
     "name": "stdout",
     "output_type": "stream",
     "text": [
      "this is called string.python is case sensitive\n"
     ]
    }
   ],
   "source": [
    "print(\"this is called string.python is case sensitive\")"
   ]
  },
  {
   "cell_type": "code",
   "execution_count": 5,
   "id": "85393b19-4e6d-486c-9af6-5b770d056305",
   "metadata": {},
   "outputs": [
    {
     "ename": "NameError",
     "evalue": "name 'Print' is not defined",
     "output_type": "error",
     "traceback": [
      "\u001b[1;31m---------------------------------------------------------------------------\u001b[0m",
      "\u001b[1;31mNameError\u001b[0m                                 Traceback (most recent call last)",
      "Cell \u001b[1;32mIn[5], line 1\u001b[0m\n\u001b[1;32m----> 1\u001b[0m Print(\u001b[38;5;124m\"\u001b[39m\u001b[38;5;124merror\u001b[39m\u001b[38;5;124m\"\u001b[39m)\n",
      "\u001b[1;31mNameError\u001b[0m: name 'Print' is not defined"
     ]
    }
   ],
   "source": [
    "Print(\"error\")"
   ]
  },
  {
   "cell_type": "code",
   "execution_count": 7,
   "id": "6d0b2c18-5328-49ba-bf1b-cc276cd3a15a",
   "metadata": {},
   "outputs": [
    {
     "name": "stdout",
     "output_type": "stream",
     "text": [
      "shift+enter= run command\n"
     ]
    }
   ],
   "source": [
    "print(\"shift+enter= run command\")"
   ]
  },
  {
   "cell_type": "code",
   "execution_count": null,
   "id": "a325d267-4be3-445d-92f4-e8e6f04b0b9f",
   "metadata": {},
   "outputs": [],
   "source": []
  }
 ],
 "metadata": {
  "kernelspec": {
   "display_name": "Python [conda env:base] *",
   "language": "python",
   "name": "conda-base-py"
  },
  "language_info": {
   "codemirror_mode": {
    "name": "ipython",
    "version": 3
   },
   "file_extension": ".py",
   "mimetype": "text/x-python",
   "name": "python",
   "nbconvert_exporter": "python",
   "pygments_lexer": "ipython3",
   "version": "3.12.7"
  }
 },
 "nbformat": 4,
 "nbformat_minor": 5
}
