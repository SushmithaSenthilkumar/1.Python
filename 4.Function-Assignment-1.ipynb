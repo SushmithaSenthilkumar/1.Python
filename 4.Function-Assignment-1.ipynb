{
 "cells": [
  {
   "cell_type": "code",
   "execution_count": 49,
   "id": "55df1a2a-baaa-4855-9054-9fbd8124911e",
   "metadata": {},
   "outputs": [
    {
     "name": "stdout",
     "output_type": "stream",
     "text": [
      "Sub-fields in AI are:\n",
      "Machine Learning\n",
      "Neural Networks\n",
      "Vision\n",
      "Robotics\n",
      "Speech Processing\n",
      "Natural Language Processing\n"
     ]
    }
   ],
   "source": [
    "list=[\"Machine Learning\",\"Neural Networks\",\"Vision\",\"Robotics\",\"Speech Processing\",\"Natural Language Processing\"]\n",
    "def Subfields():\n",
    "    print(\"Sub-fields in AI are:\")\n",
    "    for sfields in list:\n",
    "        print(sfields)\n",
    "\n",
    "Subfields()"
   ]
  },
  {
   "cell_type": "code",
   "execution_count": 47,
   "id": "f0231509-6303-418c-8bb7-ef462c860f97",
   "metadata": {},
   "outputs": [
    {
     "name": "stdin",
     "output_type": "stream",
     "text": [
      "Enter a number: 54254\n"
     ]
    },
    {
     "name": "stdout",
     "output_type": "stream",
     "text": [
      "54254  is Even number\n"
     ]
    }
   ],
   "source": [
    "def OddEven():\n",
    "    num=int(input(\"Enter a number:\"))\n",
    "    if(num%2==0):\n",
    "        print(num,\" is Even number\")\n",
    "        result=\"Even Number\"\n",
    "    else:\n",
    "        print(num,\" is Odd number\")\n",
    "        result=\"Odd Number\"\n",
    "    return result\n",
    "\n",
    "OddEven=OddEven()"
   ]
  },
  {
   "cell_type": "code",
   "execution_count": 51,
   "id": "4c1e9b46-7237-43bd-a9be-c5cc13575fa2",
   "metadata": {},
   "outputs": [
    {
     "name": "stdin",
     "output_type": "stream",
     "text": [
      "Your Gender: Male\n",
      "Your Age: 20\n"
     ]
    },
    {
     "name": "stdout",
     "output_type": "stream",
     "text": [
      "NOT ELIGIBLE\n"
     ]
    }
   ],
   "source": [
    "def Eligible():\n",
    "    gender=str(input(\"Your Gender:\"))\n",
    "    age=float(input(\"Your Age:\"))\n",
    "    if(gender==\"Male\"):\n",
    "        if(age>21):\n",
    "            print(\"ELIGIBLE\")\n",
    "            msg=\"Eligible\"\n",
    "        else:\n",
    "            print(\"NOT ELIGIBLE\")\n",
    "            msg=\"NOT ELIGIBLE\"\n",
    "    else:\n",
    "        if(age>18):\n",
    "            print(\"ELIGIBLE\")\n",
    "            msg=\"ELIGIBLE\"\n",
    "        else:\n",
    "            print(\"NOT ELIGIBLE\")\n",
    "            msg=\"NOT ELIGIBLE\"\n",
    "    return msg\n",
    "\n",
    "ElegiblityForMarriage=Eligible() \n"
   ]
  },
  {
   "cell_type": "code",
   "execution_count": 9,
   "id": "e207ae4a-e89c-49a8-9e76-387292297ea1",
   "metadata": {},
   "outputs": [
    {
     "name": "stdin",
     "output_type": "stream",
     "text": [
      "Subject1= 98\n",
      "Subject2= 87\n",
      "Subject3= 95\n",
      "Subject4= 95\n",
      "Subject5= 93\n"
     ]
    },
    {
     "name": "stdout",
     "output_type": "stream",
     "text": [
      "Total: 468.0\n",
      "Percentage: 93.60000000000001\n"
     ]
    }
   ],
   "source": [
    "sub1=float(input(\"Subject1=\"))\n",
    "sub2=float(input(\"Subject2=\"))\n",
    "sub3=float(input(\"Subject3=\"))\n",
    "sub4=float(input(\"Subject4=\"))\n",
    "sub5=float(input(\"Subject5=\"))\n",
    "def percentage():\n",
    "    Total=sub1+sub2+sub3+sub4+sub5\n",
    "    Percentage=(Total/500)*100\n",
    "    print(\"Total:\",Total)\n",
    "    print(\"Percentage:\",Percentage)\n",
    "    return Total,Percentage\n",
    "\n",
    "FindPercent=percentage()"
   ]
  },
  {
   "cell_type": "code",
   "execution_count": 37,
   "id": "b5a70463-d68b-41ea-938e-35e5bbd8b164",
   "metadata": {},
   "outputs": [
    {
     "name": "stdin",
     "output_type": "stream",
     "text": [
      "Height: 32\n",
      "Breadth: 34\n"
     ]
    },
    {
     "name": "stdout",
     "output_type": "stream",
     "text": [
      "Area formula: (Height*Breadth)/2 \n",
      "Area of Triangle: 544.0\n"
     ]
    },
    {
     "name": "stdin",
     "output_type": "stream",
     "text": [
      "Height1: 2\n",
      "Height2: 4\n",
      "Breadth: 4\n"
     ]
    },
    {
     "name": "stdout",
     "output_type": "stream",
     "text": [
      "Perimeter formula: Height1+Height2+Breadth \n",
      "Perimeter of Triangle: 10.0\n"
     ]
    }
   ],
   "source": [
    "def area_func():\n",
    "    height=float(input(\"Height:\"))\n",
    "    breadth=float(input(\"Breadth:\"))\n",
    "    Area=(height*breadth)/2\n",
    "    print(\"Area formula: (Height*Breadth)/2 \")\n",
    "    print(\"Area of Triangle:\",Area)\n",
    "    return Area\n",
    "def perimeter_func():\n",
    "    height1=float(input(\"Height1:\"))\n",
    "    height2=float(input(\"Height2:\"))\n",
    "    breadth=float(input(\"Breadth:\"))\n",
    "    Perimeter=height1+height2+breadth\n",
    "    print(\"Perimeter formula: Height1+Height2+Breadth \")\n",
    "    print(\"Perimeter of Triangle:\",Perimeter)\n",
    "    return Perimeter\n",
    "\n",
    "def triangle():\n",
    "    trianglearea=area_func()\n",
    "    triangleperimeter=perimeter_func()\n",
    "    return trianglearea,triangleperimeter\n",
    "    \n",
    "\n",
    "Traingle=triangle()\n"
   ]
  },
  {
   "cell_type": "code",
   "execution_count": null,
   "id": "4ccafc78-1b19-4204-bcd0-3b12ade51298",
   "metadata": {},
   "outputs": [],
   "source": []
  }
 ],
 "metadata": {
  "kernelspec": {
   "display_name": "Python [conda env:base] *",
   "language": "python",
   "name": "conda-base-py"
  },
  "language_info": {
   "codemirror_mode": {
    "name": "ipython",
    "version": 3
   },
   "file_extension": ".py",
   "mimetype": "text/x-python",
   "name": "python",
   "nbconvert_exporter": "python",
   "pygments_lexer": "ipython3",
   "version": "3.12.7"
  }
 },
 "nbformat": 4,
 "nbformat_minor": 5
}
