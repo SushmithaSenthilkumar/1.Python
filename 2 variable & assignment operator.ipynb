{
 "cells": [
  {
   "cell_type": "code",
   "execution_count": null,
   "id": "1f37f0f9-b0c9-49ca-9f85-ff1bfe45e656",
   "metadata": {},
   "outputs": [],
   "source": [
    "a=10\n",
    "b=20\n",
    "add=a+b\n",
    "print(\"add=\",add)"
   ]
  },
  {
   "cell_type": "code",
   "execution_count": null,
   "id": "4b610b8c-0d3e-4657-bb2f-6947c57a5628",
   "metadata": {},
   "outputs": [],
   "source": [
    "num1=10\n",
    "num2=20\n",
    "add=num1+num2\n",
    "print(\"The addition of two numbers\\n\")\n",
    "print(\"number1=\",num1)\n",
    "print(\"number2=\",num2)\n",
    "print(\"addition=\",add)\n"
   ]
  },
  {
   "cell_type": "code",
   "execution_count": null,
   "id": "7af77b77-40ef-40e1-9013-34851d8c81f3",
   "metadata": {},
   "outputs": [],
   "source": [
    "print(\"the addition of two numbers\")\n",
    "num1=10\n",
    "print(\"the number1:\",num1)\n",
    "num2=20\n",
    "print(\"the number2:\",num2)\n",
    "add=num1+num2\n",
    "print(\"the answer:\",add)"
   ]
  },
  {
   "cell_type": "code",
   "execution_count": null,
   "id": "c5fc27e6-5d32-4e2e-8a90-92f452356cdb",
   "metadata": {},
   "outputs": [],
   "source": [
    "num1=int(input(\"num1:\"))\n",
    "num2=int(input(\"num2:\"))\n",
    "add=num1+num2\n",
    "print=(\"add=\",add)"
   ]
  },
  {
   "cell_type": "code",
   "execution_count": 3,
   "id": "1663ba71-9d60-4a35-bad7-d890b39764c4",
   "metadata": {},
   "outputs": [
    {
     "name": "stdin",
     "output_type": "stream",
     "text": [
      "enter n1 1\n"
     ]
    }
   ],
   "source": [
    "n1=int(input(\"enter n1\"))\n"
   ]
  },
  {
   "cell_type": "code",
   "execution_count": 5,
   "id": "6f1b8739-2089-4b1c-86f9-2199c85e4c7a",
   "metadata": {},
   "outputs": [
    {
     "name": "stdin",
     "output_type": "stream",
     "text": [
      "enter n2 1\n"
     ]
    }
   ],
   "source": [
    "n2=int(input(\"enter n2\"))\n",
    "\n",
    "             "
   ]
  },
  {
   "cell_type": "code",
   "execution_count": 9,
   "id": "769d4c3f-d0c7-4bf4-8cc1-a04c307021da",
   "metadata": {},
   "outputs": [],
   "source": [
    "sum=n1+n2"
   ]
  },
  {
   "cell_type": "code",
   "execution_count": 11,
   "id": "f0556967-4bcd-45ea-9a2b-0de1b6b16050",
   "metadata": {},
   "outputs": [
    {
     "name": "stdout",
     "output_type": "stream",
     "text": [
      "2\n"
     ]
    }
   ],
   "source": [
    "print(sum)"
   ]
  },
  {
   "cell_type": "code",
   "execution_count": null,
   "id": "04a8d5de-ba78-47f8-b5cc-66a18f06ec74",
   "metadata": {},
   "outputs": [],
   "source": []
  }
 ],
 "metadata": {
  "kernelspec": {
   "display_name": "Python [conda env:base] *",
   "language": "python",
   "name": "conda-base-py"
  },
  "language_info": {
   "codemirror_mode": {
    "name": "ipython",
    "version": 3
   },
   "file_extension": ".py",
   "mimetype": "text/x-python",
   "name": "python",
   "nbconvert_exporter": "python",
   "pygments_lexer": "ipython3",
   "version": "3.12.7"
  }
 },
 "nbformat": 4,
 "nbformat_minor": 5
}
