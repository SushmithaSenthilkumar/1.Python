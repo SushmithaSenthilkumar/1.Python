{
 "cells": [
  {
   "cell_type": "code",
   "execution_count": 13,
   "id": "aba1475d",
   "metadata": {},
   "outputs": [
    {
     "name": "stdin",
     "output_type": "stream",
     "text": [
      "Enter a string: hello\n"
     ]
    },
    {
     "name": "stdout",
     "output_type": "stream",
     "text": [
      "olleh\n"
     ]
    }
   ],
   "source": [
    "#1.Write a Python program to find the reverse of a string. Expected Output (for input \"hello\"):\n",
    "#olleh\n",
    "string=input(\"Enter a string:\")\n",
    "reverse=string[::-1]\n",
    "print(reverse)"
   ]
  },
  {
   "cell_type": "code",
   "execution_count": 43,
   "id": "5b1ec143",
   "metadata": {},
   "outputs": [
    {
     "name": "stdin",
     "output_type": "stream",
     "text": [
      "enter no of terms 10\n"
     ]
    },
    {
     "name": "stdout",
     "output_type": "stream",
     "text": [
      "0 1 2 3 5 8 13 21 34 "
     ]
    }
   ],
   "source": [
    "#2.Write a Python program to generate the Fibonacci sequence up to 10 terms.\n",
    "#Expected Output:\n",
    "#0 1 1 2 3 5 8 13 21 34\n",
    "\n",
    "def fibonacci(x):\n",
    "    n1=0\n",
    "    n2=1\n",
    "    i=0\n",
    "    n3=0\n",
    "    print(n1,end=\" \")\n",
    "    for i in range(2,x):\n",
    "        n3=n1+n2\n",
    "        n1=n2\n",
    "        n2=n3\n",
    "        print(n3, end=\" \")\n",
    "\n",
    "terms=int(input(\"enter no of terms\"))\n",
    "fibonacci(terms)\n",
    "\n",
    "\n",
    "    \n",
    "\n",
    "\n",
    "    \n",
    "\n"
   ]
  },
  {
   "cell_type": "code",
   "execution_count": 57,
   "id": "c656f04a",
   "metadata": {},
   "outputs": [
    {
     "name": "stdin",
     "output_type": "stream",
     "text": [
      "enter a string hello\n"
     ]
    },
    {
     "name": "stdout",
     "output_type": "stream",
     "text": [
      "hello is not palindrome\n"
     ]
    }
   ],
   "source": [
    "#3.Write a Python function to check if a given string is a palindrome.\n",
    "#Expected Output (for input \"madam\"):\n",
    "#madam is a palindrome\n",
    "string=input(\"enter a string\")\n",
    "rev=string[::-1]\n",
    "if rev==string:\n",
    "    print(f\"{string} is palindrome\")\n",
    "else:\n",
    "    print(f\"{string} is not palindrome\")\n",
    "\n"
   ]
  },
  {
   "cell_type": "code",
   "execution_count": 87,
   "id": "cd7b0a78",
   "metadata": {},
   "outputs": [
    {
     "name": "stdin",
     "output_type": "stream",
     "text": [
      "enter a string: education\n"
     ]
    },
    {
     "name": "stdout",
     "output_type": "stream",
     "text": [
      "Number of vowels:4\n"
     ]
    }
   ],
   "source": [
    "\n",
    "\n",
    "#4.Write a Python program to count the number of vowels in a given string. \n",
    "#Expected Output (for input \"education\"):\n",
    "\n",
    "#Number of vowels: 5\n",
    "string=input(\"enter a string:\")\n",
    "sting_lower=string.lower()\n",
    "count=0\n",
    "for i in sting_lower:\n",
    "    if i in 'aeio':\n",
    "        count=count+1\n",
    "print(f\"Number of vowels:{count}\")\n",
    " \n",
    "\n",
    "\n",
    "\n",
    "\n"
   ]
  },
  {
   "cell_type": "code",
   "execution_count": 101,
   "id": "bdbb9b19",
   "metadata": {},
   "outputs": [
    {
     "name": "stdout",
     "output_type": "stream",
     "text": [
      "[2, 4]\n"
     ]
    }
   ],
   "source": [
    "#5.Write a Python program to remove duplicates from a list.\n",
    "#Expected Output (for input [1, 2, 2, 3, 4, 4, 5]):\n",
    "\n",
    " #[1, 2, 3, 4, 5]\n",
    "list=[1,2,2,3,4,4,5]\n",
    "dup=[]\n",
    "for i in list:\n",
    "    if list.count(i)>1:\n",
    "        if i not in dup:\n",
    "            dup.append(i)\n",
    "print(dup)\n",
    "   \n",
    "\n",
    "\n",
    "\n"
   ]
  },
  {
   "cell_type": "code",
   "execution_count": null,
   "id": "313d5769-b3bb-4f6e-94f2-35951c95e5dd",
   "metadata": {},
   "outputs": [],
   "source": []
  }
 ],
 "metadata": {
  "kernelspec": {
   "display_name": "Python [conda env:base] *",
   "language": "python",
   "name": "conda-base-py"
  },
  "language_info": {
   "codemirror_mode": {
    "name": "ipython",
    "version": 3
   },
   "file_extension": ".py",
   "mimetype": "text/x-python",
   "name": "python",
   "nbconvert_exporter": "python",
   "pygments_lexer": "ipython3",
   "version": "3.12.7"
  }
 },
 "nbformat": 4,
 "nbformat_minor": 5
}
