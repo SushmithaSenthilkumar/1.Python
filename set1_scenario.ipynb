{
 "cells": [
  {
   "cell_type": "code",
   "execution_count": 1,
   "id": "99f7a268-25a5-4dee-82a6-45179c7011cb",
   "metadata": {},
   "outputs": [
    {
     "name": "stdout",
     "output_type": "stream",
     "text": [
      "9\n"
     ]
    }
   ],
   "source": [
    "list=[1,3,4,5,9,2,7]\n",
    "print(max(list))"
   ]
  },
  {
   "cell_type": "code",
   "execution_count": 5,
   "id": "6d8100e4-331a-4114-bcd6-442d34dde97c",
   "metadata": {},
   "outputs": [
    {
     "name": "stdin",
     "output_type": "stream",
     "text": [
      "enter salary in dollars 10000\n"
     ]
    },
    {
     "name": "stdout",
     "output_type": "stream",
     "text": [
      "no bonus\n"
     ]
    }
   ],
   "source": [
    "sal=int(input(\"enter salary in dollars\"))       \n",
    "if(sal>50000):\n",
    "    bonus=(10/100)*sal \n",
    "    print(bonus)\n",
    "else:\n",
    "    print(\"no bonus\")\n"
   ]
  },
  {
   "cell_type": "code",
   "execution_count": 9,
   "id": "4597f151-4958-4ac2-8b85-f030f6485094",
   "metadata": {},
   "outputs": [
    {
     "name": "stdin",
     "output_type": "stream",
     "text": [
      "enter a number 24\n"
     ]
    },
    {
     "name": "stdout",
     "output_type": "stream",
     "text": [
      "even\n"
     ]
    }
   ],
   "source": [
    "num=int(input(\"enter a number\"))\n",
    "if(num%2==0):\n",
    "    print(\"even\")\n",
    "else:\n",
    "    print(\"odd\")"
   ]
  },
  {
   "cell_type": "code",
   "execution_count": 37,
   "id": "f65a890f-d362-4a02-a7a4-4be10bfee5a3",
   "metadata": {},
   "outputs": [
    {
     "name": "stdin",
     "output_type": "stream",
     "text": [
      "enter a string hi\n"
     ]
    },
    {
     "name": "stdout",
     "output_type": "stream",
     "text": [
      "ih\n"
     ]
    }
   ],
   "source": [
    "string=input(\"enter a string\")\n",
    "rev_string=string[::-1]\n",
    "print(rev_string)"
   ]
  },
  {
   "cell_type": "code",
   "execution_count": 39,
   "id": "b92a9ca1-9d5a-41e9-a3a3-602b3f40264e",
   "metadata": {},
   "outputs": [
    {
     "name": "stdout",
     "output_type": "stream",
     "text": [
      "2\n",
      "4\n",
      "6\n",
      "8\n",
      "0\n"
     ]
    }
   ],
   "source": [
    "list=[1,2,3,4,5,6,7,8,0]\n",
    "for i in list:\n",
    "        if(i%2==0):\n",
    "            print(i)\n"
   ]
  },
  {
   "cell_type": "code",
   "execution_count": 3,
   "id": "ace82c42-11ca-43cc-80ba-b481ed2a0926",
   "metadata": {},
   "outputs": [
    {
     "name": "stdin",
     "output_type": "stream",
     "text": [
      "Enter age: 12\n"
     ]
    },
    {
     "name": "stdout",
     "output_type": "stream",
     "text": [
      "not eligible\n"
     ]
    }
   ],
   "source": [
    "age=float(input(\"Enter age:\"))\n",
    "if(age>=18):\n",
    "    print(\"eligible\")\n",
    "else:\n",
    "    print(\"not eligible\")"
   ]
  },
  {
   "cell_type": "code",
   "execution_count": 11,
   "id": "8c94bb71-490a-4bb9-9ced-3aca7e5063d3",
   "metadata": {},
   "outputs": [
    {
     "name": "stdin",
     "output_type": "stream",
     "text": [
      "enter the sub1 marks 10\n"
     ]
    },
    {
     "name": "stdout",
     "output_type": "stream",
     "text": [
      "fail\n"
     ]
    }
   ],
   "source": [
    "sub=float(input(\"enter the sub1 marks\"))\n",
    "if(sub>40):\n",
    "    print(\"pass\")\n",
    "else:\n",
    "    print(\"fail\")"
   ]
  },
  {
   "cell_type": "code",
   "execution_count": 23,
   "id": "ea3a8591-258b-4ee3-9fe5-0519f604d809",
   "metadata": {},
   "outputs": [
    {
     "name": "stdin",
     "output_type": "stream",
     "text": [
      "enter the final bill amount: 100\n"
     ]
    },
    {
     "data": {
      "text/plain": [
       "110.0"
      ]
     },
     "execution_count": 23,
     "metadata": {},
     "output_type": "execute_result"
    }
   ],
   "source": [
    "amount=float(input(\"enter the final bill amount:\"))\n",
    "def discount():\n",
    "    if(amount>=100):\n",
    "        dis=(10/100)*amount\n",
    "        final_amount=amount+dis\n",
    "    else:\n",
    "        final_amount=amount\n",
    "    return final_amount\n",
    "\n",
    "discount()\n",
    "        "
   ]
  },
  {
   "cell_type": "code",
   "execution_count": 25,
   "id": "45f198e6-53ac-4cd6-8747-2725b8a77de3",
   "metadata": {},
   "outputs": [
    {
     "name": "stdin",
     "output_type": "stream",
     "text": [
      "enter the amount: 900\n"
     ]
    },
    {
     "name": "stdout",
     "output_type": "stream",
     "text": [
      "balance is: 100.0\n"
     ]
    }
   ],
   "source": [
    "balance=1000\n",
    "withdraw=float(input(\"enter the amount:\"))\n",
    "if(withdraw<=balance):\n",
    "    balance=balance-withdraw\n",
    "    print(\"balance is:\",balance)\n",
    "else:\n",
    "    print(\"insufficient balance\")"
   ]
  },
  {
   "cell_type": "code",
   "execution_count": 31,
   "id": "5905c47d-790b-451c-bc1e-db0c5d901e6b",
   "metadata": {},
   "outputs": [
    {
     "name": "stdin",
     "output_type": "stream",
     "text": [
      "enter year: 2024\n"
     ]
    },
    {
     "name": "stdout",
     "output_type": "stream",
     "text": [
      "leap year\n"
     ]
    }
   ],
   "source": [
    "year=int(input(\"enter year:\"))\n",
    "if(year%4==0):\n",
    "    if(year%100!=0):\n",
    "        print(\"leap year\")\n",
    "    elif(year%400==0):\n",
    "        print(\"leap year\")\n",
    "    else:\n",
    "        print(\"not leap year\")\n",
    "else:\n",
    "    print(\"not leap year\")\n",
    "        \n",
    "        "
   ]
  },
  {
   "cell_type": "code",
   "execution_count": null,
   "id": "807f2c62-4fe0-4d59-ad6a-0ca940bebe29",
   "metadata": {},
   "outputs": [],
   "source": []
  }
 ],
 "metadata": {
  "kernelspec": {
   "display_name": "Python [conda env:base] *",
   "language": "python",
   "name": "conda-base-py"
  },
  "language_info": {
   "codemirror_mode": {
    "name": "ipython",
    "version": 3
   },
   "file_extension": ".py",
   "mimetype": "text/x-python",
   "name": "python",
   "nbconvert_exporter": "python",
   "pygments_lexer": "ipython3",
   "version": "3.12.7"
  }
 },
 "nbformat": 4,
 "nbformat_minor": 5
}
