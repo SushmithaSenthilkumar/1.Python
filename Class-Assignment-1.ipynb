{
 "cells": [
  {
   "cell_type": "code",
   "execution_count": 13,
   "id": "83e013f6-2bb3-4155-9d3c-02652d275c1c",
   "metadata": {},
   "outputs": [
    {
     "name": "stdout",
     "output_type": "stream",
     "text": [
      "Sub-fields in AI are:\n",
      "Machine Learning\n",
      "Neural Networks\n",
      "Vision\n",
      "Robotics\n",
      "Speech Processing\n",
      "Natural Language Processing\n"
     ]
    }
   ],
   "source": [
    "class SubfieldsInAI():\n",
    "    def Subfields():\n",
    "        list=[\"Machine Learning\",\"Neural Networks\",\"Vision\",\"Robotics\",\"Speech Processing\",\"Natural Language Processing\"]\n",
    "        print(\"Sub-fields in AI are:\")\n",
    "        for subfields in list:\n",
    "            print(subfields)\n",
    "\n",
    "SubfieldsInAI.Subfields()\n",
    "    "
   ]
  },
  {
   "cell_type": "code",
   "execution_count": 69,
   "id": "2859043b-a980-46e2-bb12-039c57cc9b67",
   "metadata": {},
   "outputs": [
    {
     "name": "stdin",
     "output_type": "stream",
     "text": [
      "Enter a number:  52452\n"
     ]
    },
    {
     "name": "stdout",
     "output_type": "stream",
     "text": [
      "52452 is Even Number\n"
     ]
    }
   ],
   "source": [
    "class OddEven():\n",
    "    def OddEven():\n",
    "        num=int(input(\"Enter a number: \"))\n",
    "        if num%2==0:\n",
    "            print(num,\"is Even Number\")\n",
    "            result=\"Even Number\"\n",
    "        else:\n",
    "            print(num,\"is Odd Number\")\n",
    "            result=\"Odd Number\"\n",
    "        return result    \n",
    "\n",
    "\n",
    "odd_even_result=OddEven.OddEven() \n",
    "\n",
    "    "
   ]
  },
  {
   "cell_type": "code",
   "execution_count": 67,
   "id": "9a968eb4-73f4-4cae-b6c7-b84118bbcfbf",
   "metadata": {},
   "outputs": [
    {
     "name": "stdin",
     "output_type": "stream",
     "text": [
      "Enter gender: Male\n",
      "Enter age: 20\n"
     ]
    },
    {
     "name": "stdout",
     "output_type": "stream",
     "text": [
      "Not Eligible\n"
     ]
    }
   ],
   "source": [
    "class EligiblityForMarriage():\n",
    "    def Eligible():\n",
    "        gender=input(\"Enter gender:\")\n",
    "        age=int(input(\"Enter age:\"))\n",
    "        if(gender==\"Male\"):\n",
    "            if(age>21):\n",
    "                print(\"Eligible\")\n",
    "                msg=\"Eligible\"\n",
    "            else:\n",
    "                print(\"Not Eligible\")\n",
    "                msg=\"Not Eligible\"\n",
    "        else:\n",
    "            if(age>18):\n",
    "                print(\"Eligible\")\n",
    "                msg=\"Eligible\"\n",
    "            else:\n",
    "                print(\"Not Eligible\")\n",
    "                msg=\"Not Eligible\"\n",
    "        return msg\n",
    "                \n",
    "\n",
    "Marriage_Eligibility=EligiblityForMarriage.Eligible() "
   ]
  },
  {
   "cell_type": "code",
   "execution_count": 65,
   "id": "a6a72b25-88ab-43e7-9b52-e6c1e0b80122",
   "metadata": {},
   "outputs": [
    {
     "name": "stdin",
     "output_type": "stream",
     "text": [
      "Subject1= 98\n",
      "Subject2= 87\n",
      "Subject3= 95\n",
      "Subject4= 95\n",
      "Subject5= 93\n"
     ]
    },
    {
     "name": "stdout",
     "output_type": "stream",
     "text": [
      "Total: 468.0\n",
      "Percentage: 93.60000000000001\n"
     ]
    }
   ],
   "source": [
    "class FindPercent():\n",
    "    def percentage():\n",
    "        sub1=float(input(\"Subject1=\"))\n",
    "        sub2=float(input(\"Subject2=\"))\n",
    "        sub3=float(input(\"Subject3=\"))\n",
    "        sub4=float(input(\"Subject4=\"))\n",
    "        sub5=float(input(\"Subject5=\"))\n",
    "        Total=sub1+sub2+sub3+sub4+sub5\n",
    "        Percentage=(Total/500)*100\n",
    "        print(\"Total:\",Total)\n",
    "        print(\"Percentage:\",Percentage)\n",
    "        return Total,Percentage\n",
    "\n",
    "\n",
    "Percent=FindPercent.percentage()"
   ]
  },
  {
   "cell_type": "code",
   "execution_count": 8,
   "id": "ca3225fa-c449-4782-9b3f-be7796eac01c",
   "metadata": {},
   "outputs": [
    {
     "name": "stdin",
     "output_type": "stream",
     "text": [
      "Height: 32\n",
      "Breadth: 34\n"
     ]
    },
    {
     "name": "stdout",
     "output_type": "stream",
     "text": [
      "Area formula: (Height*Breadth)/2 \n",
      "Area of Triangle: 544.0\n"
     ]
    },
    {
     "name": "stdin",
     "output_type": "stream",
     "text": [
      "Height1: 2\n",
      "Height2: 4\n",
      "Breadth: 4\n"
     ]
    },
    {
     "name": "stdout",
     "output_type": "stream",
     "text": [
      "Perimeter formula: Height1+Height2+Breadth \n",
      "Perimeter of Triangle: 10.0\n"
     ]
    }
   ],
   "source": [
    "class Triangle():\n",
    "    def triangle():\n",
    "        def area_func():\n",
    "            height=float(input(\"Height:\"))\n",
    "            breadth=float(input(\"Breadth:\"))\n",
    "            Area=(height*breadth)/2\n",
    "            print(\"Area formula: (Height*Breadth)/2 \")\n",
    "            print(\"Area of Triangle:\",Area)\n",
    "            return Area\n",
    "        def perimeter_func():\n",
    "            height1=float(input(\"Height1:\"))\n",
    "            height2=float(input(\"Height2:\"))\n",
    "            breadth=float(input(\"Breadth:\"))\n",
    "            Perimeter=height1+height2+breadth\n",
    "            print(\"Perimeter formula: Height1+Height2+Breadth \")\n",
    "            print(\"Perimeter of Triangle:\",Perimeter)\n",
    "            return Perimeter\n",
    "        \n",
    "        trianglearea=area_func()\n",
    "        triangleperimeter=perimeter_func()\n",
    "        return trianglearea,triangleperimeter\n",
    "\n",
    "TriangleValues=Triangle.triangle()\n"
   ]
  },
  {
   "cell_type": "code",
   "execution_count": null,
   "id": "8ea111af-06a6-4890-b526-e748f04477cd",
   "metadata": {},
   "outputs": [],
   "source": []
  }
 ],
 "metadata": {
  "kernelspec": {
   "display_name": "Python [conda env:base] *",
   "language": "python",
   "name": "conda-base-py"
  },
  "language_info": {
   "codemirror_mode": {
    "name": "ipython",
    "version": 3
   },
   "file_extension": ".py",
   "mimetype": "text/x-python",
   "name": "python",
   "nbconvert_exporter": "python",
   "pygments_lexer": "ipython3",
   "version": "3.12.7"
  }
 },
 "nbformat": 4,
 "nbformat_minor": 5
}
