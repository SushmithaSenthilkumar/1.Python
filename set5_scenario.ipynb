{
 "cells": [
  {
   "cell_type": "code",
   "execution_count": 59,
   "id": "f499ab9d-b84d-4135-ae0f-de87a84cfac3",
   "metadata": {},
   "outputs": [
    {
     "name": "stdin",
     "output_type": "stream",
     "text": [
      "enter a number: 366\n"
     ]
    },
    {
     "name": "stdout",
     "output_type": "stream",
     "text": [
      "[2, 3, 6, 61, 122, 183]\n",
      "[2, 3, 61]\n",
      "61\n"
     ]
    }
   ],
   "source": [
    "num=int(input(\"enter a number:\"))\n",
    "factor=[]\n",
    "primefactor=[]\n",
    "for i in range(2,n):\n",
    "    if n%i==0:\n",
    "        factor.append(i)\n",
    "print(factor)\n",
    "for i in factor:\n",
    "    if i>1:\n",
    "        prime = True\n",
    "    for j in range(2,int(i**0.5)+1):\n",
    "        if i%j==0:\n",
    "            prime=False\n",
    "    if prime:\n",
    "        primefactor.append(i)\n",
    "print(primefactor)           \n",
    "print(max(primefactor))"
   ]
  },
  {
   "cell_type": "code",
   "execution_count": 69,
   "id": "42b5b866-aebb-411f-84a5-b474b6762c35",
   "metadata": {},
   "outputs": [
    {
     "name": "stdin",
     "output_type": "stream",
     "text": [
      "enter a sentence: i love my daughter\n"
     ]
    },
    {
     "name": "stdout",
     "output_type": "stream",
     "text": [
      "['i', 'love', 'my', 'daughter']\n",
      "daughter\n"
     ]
    }
   ],
   "source": [
    "sentence=input(\"enter a sentence:\")\n",
    "words=sentence.split(\" \")\n",
    "print(max(words,key=len))\n",
    "   \n",
    "        "
   ]
  },
  {
   "cell_type": "code",
   "execution_count": null,
   "id": "9fc5fda0-1086-465d-bf82-714c0210e4a5",
   "metadata": {},
   "outputs": [],
   "source": []
  },
  {
   "cell_type": "code",
   "execution_count": 31,
   "id": "43b63ff9-66f6-4b95-a04b-bd650481df2b",
   "metadata": {},
   "outputs": [
    {
     "name": "stdin",
     "output_type": "stream",
     "text": [
      "enter a roman numeral: IVCM\n"
     ]
    },
    {
     "name": "stdout",
     "output_type": "stream",
     "text": [
      "894\n"
     ]
    }
   ],
   "source": [
    "roman_string=input(\"enter a roman numeral:\")\n",
    "roman_map = {'I': 1, 'V': 5, 'X': 10, 'L': 50,\n",
    "                 'C': 100, 'D': 500, 'M': 1000}\n",
    "n=len(roman_string)\n",
    "total=0\n",
    "for i in range(n):\n",
    "    if i+1< n and roman_map[roman_string[i]]<roman_map[roman_string[i+1]]:\n",
    "        total=total-roman_map[roman_string[i]]\n",
    "    else:\n",
    "        total=total+roman_map[roman_string[i]]\n",
    "print(total)"
   ]
  },
  {
   "cell_type": "code",
   "execution_count": 43,
   "id": "60a59525-4971-4cd3-88ea-a43f55fd1378",
   "metadata": {},
   "outputs": [
    {
     "name": "stdout",
     "output_type": "stream",
     "text": [
      "['disk', 'dog', 'dolphin', 'donkey', 'doom']\n",
      "d\n"
     ]
    }
   ],
   "source": [
    "string_list=[\"dog\",\"donkey\",\"dolphin\",\"disk\",\"doom\"]\n",
    "string_list.sort()\n",
    "print(string_list)\n",
    "first_string=string_list[0]\n",
    "last_string=string_list[-1]\n",
    "i = 0\n",
    "while i < len(first_string) and i < len(last_string) and first_string[i] == last_string[i]:\n",
    "    i=i+1\n",
    "print(first_string[:i])\n",
    "    "
   ]
  },
  {
   "cell_type": "code",
   "execution_count": 47,
   "id": "90a3f7cb-6820-4a2a-82c9-970e18e0d752",
   "metadata": {},
   "outputs": [
    {
     "name": "stdin",
     "output_type": "stream",
     "text": [
      "Enter first number:  1\n",
      "Enter second number:  2\n",
      "Enter operator (+, -, *, /):  *\n"
     ]
    },
    {
     "name": "stdout",
     "output_type": "stream",
     "text": [
      "2.0\n"
     ]
    }
   ],
   "source": [
    "num1 = float(input(\"Enter first number: \"))\n",
    "num2 = float(input(\"Enter second number: \"))\n",
    "operator = input(\"Enter operator (+, -, *, /): \")\n",
    "\n",
    "if operator == '+':\n",
    "    print(num1 + num2)\n",
    "elif operator == '-':\n",
    "    print( num1 - num2)\n",
    "elif operator == '*':\n",
    "    print( num1 * num2)\n",
    "elif operator == '/':\n",
    "    if num2 != 0:\n",
    "        print(\"Result:\", num1 / num2)\n",
    "    else:\n",
    "        print(\"Error: Division by zero\")\n",
    "else:\n",
    "    print(\"Invalid operator\")\n",
    "\n"
   ]
  },
  {
   "cell_type": "code",
   "execution_count": 73,
   "id": "9840aa0d-fcb4-48b0-8179-4144d0b63de3",
   "metadata": {},
   "outputs": [
    {
     "name": "stdin",
     "output_type": "stream",
     "text": [
      "enter a number: 153\n"
     ]
    },
    {
     "name": "stdout",
     "output_type": "stream",
     "text": [
      "[1, 5, 3]\n",
      "3\n",
      "153\n",
      "num is amstrong\n"
     ]
    }
   ],
   "source": [
    "num=input(\"enter a number:\")\n",
    "digit=[int(i) for i in str(num)]\n",
    "print(digit)\n",
    "l=len(num)\n",
    "print(l)\n",
    "amstrong=0\n",
    "for i in digit:\n",
    "    amstrong=(i**l)+amstrong\n",
    "print(amstrong)\n",
    "if int(num)==amstrong:\n",
    "    print(\"num is amstrong\")\n",
    "else:\n",
    "    print(\"num is not amstrong\")\n",
    "    "
   ]
  },
  {
   "cell_type": "code",
   "execution_count": null,
   "id": "9ad11654-1c02-47c4-b290-d9925332d146",
   "metadata": {},
   "outputs": [
    {
     "name": "stdout",
     "output_type": "stream",
     "text": [
      "Options:\n",
      " 1. Add\n",
      " 2. Edit\n",
      " 3. View\n",
      " 4.exit\n",
      "to-do list:\n",
      "wakeup\n",
      "eat\n",
      "study\n",
      "sleep\n"
     ]
    }
   ],
   "source": [
    "list=['wakeup','eat','study','sleep']\n",
    "print(\"Options:\\n 1. Add\\n 2. Edit\\n 3. View\\n 4.exit\")\n",
    "print(\"to-do list:\")\n",
    "for i in list:\n",
    "    print(i)\n",
    "while True:\n",
    "    \n",
    "    option=input(\"enter the option:\")\n",
    "    if option=='1':\n",
    "        task=input(\"enter the task to do\")\n",
    "        list.append(task)\n",
    "        \n",
    "    elif option=='2':\n",
    "        task_index=int(input(\"enter the task no to edit\"))-1\n",
    "        task=input(\"enter the task change\")\n",
    "        list[task_index]=task\n",
    "        \n",
    "    elif option=='3':\n",
    "        print(list)\n",
    "        \n",
    "    elif option=='4':\n",
    "        break\n",
    "        \n",
    "    else:\n",
    "        print(\"option not availble\")\n",
    "    print(list)\n",
    "    \n",
    "    \n",
    "    "
   ]
  },
  {
   "cell_type": "code",
   "execution_count": 13,
   "id": "b821f358-0474-4b3b-a783-475b247ae95c",
   "metadata": {},
   "outputs": [
    {
     "name": "stdin",
     "output_type": "stream",
     "text": [
      "enter the temperture in celcius: 32\n",
      "enter the temperature in farenheit: 99\n"
     ]
    },
    {
     "name": "stdout",
     "output_type": "stream",
     "text": [
      " 32.0 C =89.6F\n",
      "99.0F =37.0C\n"
     ]
    }
   ],
   "source": [
    "\n",
    "def celcius_to_farenheit(value):\n",
    "    faren=(value*1.8)+32\n",
    "    return faren\n",
    "def farenheit_to_celcius(value):\n",
    "    celcius=(value-32)//1.8\n",
    "    return celcius\n",
    "\n",
    "cel=float(input(\"enter the temperture in celcius:\"))\n",
    "faren=float(input(\"enter the temperature in farenheit:\"))\n",
    "print(f\" {cel} C ={celcius_to_farenheit(cel)}F\")\n",
    "print(f\"{faren}F ={farenheit_to_celcius(faren)}C\")\n"
   ]
  },
  {
   "cell_type": "code",
   "execution_count": 21,
   "id": "09c633b4-fe3c-4471-9552-8e71ba2a8168",
   "metadata": {},
   "outputs": [
    {
     "name": "stdin",
     "output_type": "stream",
     "text": [
      "enter a string: doogy\n"
     ]
    },
    {
     "name": "stdout",
     "output_type": "stream",
     "text": [
      "False\n"
     ]
    }
   ],
   "source": [
    "string=input(\"enter a string:\")\n",
    "string_set=set(string)\n",
    "if len(string_set)==len(string):\n",
    "    print(\"True\")\n",
    "else:\n",
    "    print(\"False\")\n",
    "    \n",
    "    "
   ]
  },
  {
   "cell_type": "code",
   "execution_count": 45,
   "id": "d8c44da9-e919-4e13-8d90-6c012caaa041",
   "metadata": {},
   "outputs": [
    {
     "name": "stdin",
     "output_type": "stream",
     "text": [
      "enter the length of password: 4\n"
     ]
    },
    {
     "name": "stdout",
     "output_type": "stream",
     "text": [
      "At0%\n"
     ]
    }
   ],
   "source": [
    "import string\n",
    "import random\n",
    "length=int(input(\"enter the length of password:\"))\n",
    "upper = string.ascii_uppercase\n",
    "lower = string.ascii_lowercase\n",
    "digits = string.digits\n",
    "special = string.punctuation\n",
    "password_combo = upper+lower+digits+special\n",
    "password = [random.choice(upper),random.choice(lower),random.choice(digits),random.choice(special)]\n",
    "password+=random.choices(password_combo,k=length-4)\n",
    "print(''.join(password))\n",
    "\n",
    "\n",
    "\n",
    "\n",
    "\n"
   ]
  },
  {
   "cell_type": "code",
   "execution_count": null,
   "id": "75175abf-2970-4507-a546-3f05a4097fb3",
   "metadata": {},
   "outputs": [],
   "source": []
  }
 ],
 "metadata": {
  "kernelspec": {
   "display_name": "Python [conda env:base] *",
   "language": "python",
   "name": "conda-base-py"
  },
  "language_info": {
   "codemirror_mode": {
    "name": "ipython",
    "version": 3
   },
   "file_extension": ".py",
   "mimetype": "text/x-python",
   "name": "python",
   "nbconvert_exporter": "python",
   "pygments_lexer": "ipython3",
   "version": "3.12.7"
  }
 },
 "nbformat": 4,
 "nbformat_minor": 5
}
