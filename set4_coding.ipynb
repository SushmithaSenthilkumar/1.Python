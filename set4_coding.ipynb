{
 "cells": [
  {
   "cell_type": "code",
   "execution_count": 41,
   "id": "236d4978",
   "metadata": {
    "id": "236d4978"
   },
   "outputs": [
    {
     "name": "stdout",
     "output_type": "stream",
     "text": [
      "12\n"
     ]
    }
   ],
   "source": [
    "#1.Find the GCD of Two Numbers\n",
    "#Question: Write a Python program to find the Greatest Common Divisor (GCD) of 36 and 60.\n",
    "import math\n",
    "print(math.gcd(36,60))\n"
   ]
  },
  {
   "cell_type": "code",
   "execution_count": 51,
   "id": "4b6a75d0-71a1-47c8-b308-34f475645b49",
   "metadata": {},
   "outputs": [
    {
     "name": "stdout",
     "output_type": "stream",
     "text": [
      "12\n"
     ]
    }
   ],
   "source": [
    "a=60\n",
    "b=36\n",
    "while b!=0:\n",
    "    a,b=b,a%b\n",
    "print(a)"
   ]
  },
  {
   "cell_type": "code",
   "execution_count": 35,
   "id": "e1bfc6af",
   "metadata": {
    "id": "e1bfc6af"
   },
   "outputs": [
    {
     "name": "stdout",
     "output_type": "stream",
     "text": [
      "24\n"
     ]
    }
   ],
   "source": [
    "#2. Find the Sum of Digits of a Number\n",
    "#Question: Write a Python program to find the sum of the digits of the number 987.\n",
    "num=987\n",
    "digits=[int(i) for i in str(num)]\n",
    "digits_sum=0\n",
    "for i in digits:\n",
    "    digits_sum+=i\n",
    "print(digits_sum)\n",
    "\n"
   ]
  },
  {
   "cell_type": "code",
   "execution_count": 31,
   "id": "e051bb22",
   "metadata": {
    "id": "e051bb22"
   },
   "outputs": [
    {
     "name": "stdout",
     "output_type": "stream",
     "text": [
      "[0, 1, 153, 370, 371, 407]\n"
     ]
    }
   ],
   "source": [
    "#3. Find All Armstrong Numbers Between 1 and 1000\n",
    "#Question: Write a Python program to print all Armstrong numbers between 1 and 1000.\n",
    "\n",
    "amstronglist=[]\n",
    "for i in range(1000):\n",
    "    digits=[int(j) for j in str(i)]\n",
    "    amstrong=0\n",
    "    for k in digits:\n",
    "        amstrong=k*k*k+amstrong\n",
    "    if amstrong==i:\n",
    "        amstronglist.append(i)\n",
    "print(amstronglist)"
   ]
  },
  {
   "cell_type": "code",
   "execution_count": 31,
   "id": "dbffe07b",
   "metadata": {
    "id": "dbffe07b"
   },
   "outputs": [
    {
     "name": "stdout",
     "output_type": "stream",
     "text": [
      "the frequency of p is 1\n",
      "the frequency of r is 2\n",
      "the frequency of o is 1\n",
      "the frequency of g is 2\n",
      "the frequency of a is 1\n",
      "the frequency of m is 2\n",
      "the frequency of i is 1\n",
      "the frequency of n is 1\n"
     ]
    }
   ],
   "source": [
    "#4.Count the Frequency of Each Character in a String\n",
    "#Question: Write a Python program to count the frequency of each character in \"programming\".\n",
    "word='programming'\n",
    "dup=[]\n",
    "for i in word:  \n",
    "    if i not in dup:\n",
    "        print(f\"the frequency of {i} is {word.count(i)}\")\n",
    "        dup.append(i)\n",
    "\n"
   ]
  },
  {
   "cell_type": "code",
   "execution_count": 19,
   "id": "f092013b",
   "metadata": {
    "id": "f092013b"
   },
   "outputs": [
    {
     "name": "stdout",
     "output_type": "stream",
     "text": [
      "[0, 1, 4, 9, 16, 25, 36, 49, 64, 81]\n"
     ]
    }
   ],
   "source": [
    "#5. Generate a List of Squares of Numbers from 1 to 10\n",
    "#Question: Write a Python program to generate a list containing squares of numbers from 1 to 10.\n",
    "squares=[]\n",
    "for i in range(10):\n",
    "    squares.append(i*i)\n",
    "print(squares)\n",
    "\n"
   ]
  },
  {
   "cell_type": "code",
   "execution_count": null,
   "id": "3b44c858",
   "metadata": {
    "id": "3b44c858"
   },
   "outputs": [],
   "source": []
  },
  {
   "cell_type": "code",
   "execution_count": null,
   "id": "3d849771",
   "metadata": {
    "id": "3d849771"
   },
   "outputs": [],
   "source": []
  },
  {
   "cell_type": "code",
   "execution_count": null,
   "id": "7840dd7f",
   "metadata": {
    "id": "7840dd7f"
   },
   "outputs": [],
   "source": []
  },
  {
   "cell_type": "code",
   "execution_count": null,
   "id": "e7d58228",
   "metadata": {
    "id": "e7d58228"
   },
   "outputs": [],
   "source": []
  },
  {
   "cell_type": "code",
   "execution_count": null,
   "id": "85a782d9",
   "metadata": {
    "id": "85a782d9"
   },
   "outputs": [],
   "source": []
  }
 ],
 "metadata": {
  "colab": {
   "provenance": []
  },
  "kernelspec": {
   "display_name": "Python [conda env:base] *",
   "language": "python",
   "name": "conda-base-py"
  },
  "language_info": {
   "codemirror_mode": {
    "name": "ipython",
    "version": 3
   },
   "file_extension": ".py",
   "mimetype": "text/x-python",
   "name": "python",
   "nbconvert_exporter": "python",
   "pygments_lexer": "ipython3",
   "version": "3.12.7"
  }
 },
 "nbformat": 4,
 "nbformat_minor": 5
}
