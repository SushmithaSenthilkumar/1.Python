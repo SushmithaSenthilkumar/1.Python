{
 "cells": [
  {
   "cell_type": "code",
   "execution_count": 19,
   "id": "737f4446-6526-4c8e-b564-0bddd0bc0fa9",
   "metadata": {},
   "outputs": [
    {
     "name": "stdin",
     "output_type": "stream",
     "text": [
      "enter a number: 1ab\n"
     ]
    },
    {
     "name": "stdout",
     "output_type": "stream",
     "text": [
      "enter a valid number\n"
     ]
    },
    {
     "name": "stdin",
     "output_type": "stream",
     "text": [
      "enter a number: 2ab\n"
     ]
    },
    {
     "name": "stdout",
     "output_type": "stream",
     "text": [
      "enter a valid number\n"
     ]
    },
    {
     "name": "stdin",
     "output_type": "stream",
     "text": [
      "enter a number: 123\n"
     ]
    }
   ],
   "source": [
    "while True:\n",
    "    forminput=input(\"enter a number:\")\n",
    "    try:\n",
    "        number=int(forminput)\n",
    "        break\n",
    "    except ValueError:\n",
    "        print(\"enter a valid number\")\n"
   ]
  },
  {
   "cell_type": "code",
   "execution_count": 165,
   "id": "4f7aa5c6-4a93-4329-ad75-49ded50f1b4d",
   "metadata": {},
   "outputs": [
    {
     "name": "stdout",
     "output_type": "stream",
     "text": [
      "the element that occurs the highest is:[5, 7]\n"
     ]
    }
   ],
   "source": [
    "numbers=[1,2,3,4,5,1,1,4,2,3,3,5,5,5,5,7,7,7,7,7,8]\n",
    "max_count=0\n",
    "max_count_element=[]\n",
    "for i in numbers:\n",
    "    element_count=numbers.count(i)\n",
    "    if element_count>max_count:\n",
    "        max_count=element_count\n",
    "        max_count_element=[i]\n",
    "    elif element_count==max_count and i not in max_count_element:\n",
    "        max_count_element.append(i)\n",
    "        \n",
    "print(f\"the element that occurs the highest is:{max_count_element}\")\n"
   ]
  },
  {
   "cell_type": "code",
   "execution_count": 129,
   "id": "5abcc9a3-c16d-4bf1-9b1f-a24c974ef19e",
   "metadata": {},
   "outputs": [
    {
     "name": "stdin",
     "output_type": "stream",
     "text": [
      "enter string1: wekirjhei\n",
      "enter string2: wiergih\n"
     ]
    },
    {
     "name": "stdout",
     "output_type": "stream",
     "text": [
      "['e', 'e', 'h', 'i', 'i', 'j', 'k', 'r', 'w'] ['e', 'g', 'h', 'i', 'i', 'r', 'w']\n",
      "not anagram\n"
     ]
    }
   ],
   "source": [
    "string1=sorted(input(\"enter string1:\").lower())\n",
    "string2=sorted(input(\"enter string2:\").lower())\n",
    "\n",
    "print(string1,string2)\n",
    "if len(string1)==len(string2) and string1==string2:\n",
    "    \n",
    "    print(\"anagram\")\n",
    "else:\n",
    "    print(\"not anagram\")\n"
   ]
  },
  {
   "cell_type": "code",
   "execution_count": 81,
   "id": "8553cba9-53bb-4650-aa82-b35635ae4f01",
   "metadata": {},
   "outputs": [
    {
     "name": "stdin",
     "output_type": "stream",
     "text": [
      "enter a string: I LOVE  Y DOGS and daughter\n"
     ]
    },
    {
     "name": "stdout",
     "output_type": "stream",
     "text": [
      "8\n"
     ]
    }
   ],
   "source": [
    "given_string=input(\"enter a string:\")\n",
    "l_given_string=given_string.lower()\n",
    "vowels=\"aeiou\"\n",
    "vowel_count=0\n",
    "for i in l_given_string:\n",
    "    if i in vowels:\n",
    "        vowel_count+=1\n",
    "print(vowel_count)"
   ]
  },
  {
   "cell_type": "code",
   "execution_count": 65,
   "id": "7674831c-488c-4f42-b9ed-38005da3caa4",
   "metadata": {},
   "outputs": [
    {
     "name": "stdin",
     "output_type": "stream",
     "text": [
      "enter a sentence: i love my dog\n"
     ]
    },
    {
     "name": "stdout",
     "output_type": "stream",
     "text": [
      "dog my love i\n"
     ]
    }
   ],
   "source": [
    "sentence=input(\"enter a sentence:\")\n",
    "substring_list=list(sentence.split(\" \"))\n",
    "rev_substring_list=substring_list[::-1]\n",
    "print(\" \".join(rev_substring_list))\n"
   ]
  },
  {
   "cell_type": "code",
   "execution_count": 41,
   "id": "d77314d1-7543-4137-8ef0-709d6d89368f",
   "metadata": {},
   "outputs": [
    {
     "name": "stdout",
     "output_type": "stream",
     "text": [
      "{4, 5, 6}\n"
     ]
    }
   ],
   "source": [
    "def original(n):\n",
    "    original=set(range(1,n))\n",
    "    return original\n",
    " \n",
    "def given():                     \n",
    "    given=set([1,2,3])\n",
    "    return given\n",
    "\n",
    "original_set=original(7)\n",
    "given_set=given()\n",
    "missing_number=original_set-given_set\n",
    "print(missing_number)\n"
   ]
  },
  {
   "cell_type": "code",
   "execution_count": 177,
   "id": "93427e17-bc5d-45cc-a3b0-c47066066866",
   "metadata": {},
   "outputs": [
    {
     "name": "stdin",
     "output_type": "stream",
     "text": [
      "enter the amount to withdraw: 40000\n"
     ]
    },
    {
     "name": "stdout",
     "output_type": "stream",
     "text": [
      "withdrawal success. balace:10000.0\n"
     ]
    }
   ],
   "source": [
    "balance=50000\n",
    "withdraw_amount=float(input(\"enter the amount to withdraw:\"))\n",
    "if(withdraw_amount> balance):\n",
    "    print(\"insufficient balance\")\n",
    "else:\n",
    "    balance=balance-withdraw_amount\n",
    "    print(f\"withdrawal success. balance:{balance}\")"
   ]
  },
  {
   "cell_type": "code",
   "execution_count": 167,
   "id": "b0fa4322-15c3-49ff-83d3-44f8565e3b92",
   "metadata": {},
   "outputs": [
    {
     "name": "stdout",
     "output_type": "stream",
     "text": [
      "duplicates present\n"
     ]
    }
   ],
   "source": [
    "list=[1,2,3,3,4,4,4,4,5,6,7]\n",
    "dup=[]\n",
    "dup_count=0\n",
    "for i in list:\n",
    "    if list.count(i)>1 and i not in dup:\n",
    "        dup_count+=1\n",
    "        dup.append(i)\n",
    "\n",
    "if dup_count>0:\n",
    "    print(\"duplicates present\")\n",
    "else:\n",
    "    print(\"duplicates not present\")\n",
    "  "
   ]
  },
  {
   "cell_type": "code",
   "execution_count": 171,
   "id": "dd0cf180-7f27-4e00-9bbe-f45e0fe41d79",
   "metadata": {},
   "outputs": [
    {
     "name": "stdout",
     "output_type": "stream",
     "text": [
      "duplicates pressent\n"
     ]
    }
   ],
   "source": [
    "given_list=[1,2,3,3,5,6,7,7,7,4,5,6,7]\n",
    "len_given_list=len(given_list)\n",
    "list_set=set(given_list)\n",
    "len_set=len(list_set)\n",
    "if len_set==len_given_list:\n",
    "    print(\"no duplicates\")\n",
    "else:\n",
    "    print(\"duplicates pressent\")\n"
   ]
  },
  {
   "cell_type": "code",
   "execution_count": 129,
   "id": "75d2b55d-f224-4138-ba71-2ded8ab01e3b",
   "metadata": {},
   "outputs": [
    {
     "name": "stdin",
     "output_type": "stream",
     "text": [
      "enter a number 123\n"
     ]
    },
    {
     "name": "stdout",
     "output_type": "stream",
     "text": [
      "[1, 2, 3]\n",
      "6\n"
     ]
    }
   ],
   "source": [
    "number=input(\"enter a number\")\n",
    "digits=[int(i) for i in str(number)]\n",
    "print(digits)\n",
    "sum_of_digits=0\n",
    "for i in digits:\n",
    "    sum_of_digits=sum_of_digits+i\n",
    "print(sum_of_digits)\n"
   ]
  },
  {
   "cell_type": "code",
   "execution_count": 113,
   "id": "223224d8-e90d-4bb6-aeae-d16a75be102d",
   "metadata": {},
   "outputs": [
    {
     "name": "stdin",
     "output_type": "stream",
     "text": [
      "enter a sentence: \"Pack my box with five dozen liquor jugs \"Pack my box with five dozen liquor jugs\"JUGSSSS\n"
     ]
    },
    {
     "name": "stdout",
     "output_type": "stream",
     "text": [
      "pangranm\n"
     ]
    }
   ],
   "source": [
    "import string\n",
    "sentence=input(\"enter a sentence:\")\n",
    "l_sentence=sentence.lower()\n",
    "letters=set(i for i in l_sentence)\n",
    "alphabets=set(string.ascii_lowercase)\n",
    "if letters >= alphabets:\n",
    "    print(\"pangranm\")\n",
    "else:\n",
    "    print(\"not pangram\")"
   ]
  },
  {
   "cell_type": "code",
   "execution_count": null,
   "id": "64116618-02b9-4ac3-9d1b-213f3dbd693f",
   "metadata": {},
   "outputs": [],
   "source": []
  }
 ],
 "metadata": {
  "kernelspec": {
   "display_name": "Python [conda env:base] *",
   "language": "python",
   "name": "conda-base-py"
  },
  "language_info": {
   "codemirror_mode": {
    "name": "ipython",
    "version": 3
   },
   "file_extension": ".py",
   "mimetype": "text/x-python",
   "name": "python",
   "nbconvert_exporter": "python",
   "pygments_lexer": "ipython3",
   "version": "3.12.7"
  }
 },
 "nbformat": 4,
 "nbformat_minor": 5
}
