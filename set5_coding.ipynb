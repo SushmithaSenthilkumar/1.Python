{
 "cells": [
  {
   "cell_type": "code",
   "execution_count": 7,
   "id": "a2bfbf44",
   "metadata": {},
   "outputs": [
    {
     "name": "stdout",
     "output_type": "stream",
     "text": [
      "APPLE\n",
      "BANANA\n",
      "CHERRY\n"
     ]
    }
   ],
   "source": [
    "#1. Convert a List of Strings to Uppercase\n",
    "#Question: Write a Python program to convert all strings in the list [\"apple\", \"banana\", \"cherry\"] to uppercase.\n",
    "givenlist=[\"apple\", \"banana\", \"cherry\"] \n",
    "for i in givenlist:\n",
    "    uppercase=i.upper()\n",
    "    print(uppercase)\n",
    "\n"
   ]
  },
  {
   "cell_type": "code",
   "execution_count": 17,
   "id": "d73fd504",
   "metadata": {},
   "outputs": [
    {
     "name": "stdout",
     "output_type": "stream",
     "text": [
      "{'dict1': {'a': 10, 'b': 20}, 'dict2': {'c': 30, 'd': 40}}\n"
     ]
    }
   ],
   "source": [
    "#2. Merge Two Dictionaries\n",
    "#Question: Write a Python program to merge two dictionaries:\n",
    "\n",
    "dict1 = {'a': 10, 'b': 20}  \n",
    "dict2 = {'c': 30, 'd': 40}\n",
    "dict3={\"dict1\":dict1,\"dict2\":dict2}\n",
    "print(dict3)\n"
   ]
  },
  {
   "cell_type": "code",
   "execution_count": 21,
   "id": "86dc2aa1",
   "metadata": {},
   "outputs": [
    {
     "name": "stdout",
     "output_type": "stream",
     "text": [
      "{4, 5}\n"
     ]
    }
   ],
   "source": [
    "#3. Find the Intersection of Two Lists\n",
    "#Question: Write a Python program to find the common elements between the two lists:\n",
    "\n",
    "\n",
    "list1 = [1, 2, 3, 4, 5]  \n",
    "list2 = [4, 5, 6, 7, 8]\n",
    "list1_set=set(list1)\n",
    "list2_set=set(list2)\n",
    "common=(list1_set & list2_set)\n",
    "print(common)\n"
   ]
  },
  {
   "cell_type": "code",
   "execution_count": 67,
   "id": "1e2f6e55",
   "metadata": {},
   "outputs": [
    {
     "name": "stdout",
     "output_type": "stream",
     "text": [
      "the length of Python is 6\n",
      "the length of is is 2\n",
      "the length of fun is 3\n",
      "the length of and is 3\n",
      "the length of powerful is 8\n"
     ]
    }
   ],
   "source": [
    "#4. Find the Length of Each Word in a Sentence\n",
    "#Question: Write a Python program to print the length of each word in the sentence \"Python is fun and powerful\".\n",
    "sentence=\"Python is fun and powerful\"\n",
    "words=sentence.split(\" \")\n",
    "for i in words:\n",
    "    print(f\"the length of {i} is {len(i)}\")\n",
    "    \n",
    "\n",
    "    \n"
   ]
  },
  {
   "cell_type": "code",
   "execution_count": 87,
   "id": "6c7c45d2",
   "metadata": {},
   "outputs": [
    {
     "name": "stdout",
     "output_type": "stream",
     "text": [
      "45\n"
     ]
    }
   ],
   "source": [
    "#5. Find the Sum of All Elements in a 2D List\n",
    "#Question: Write a Python program to find the sum of all elements in the 2D list:\n",
    "\n",
    "\n",
    "matrix = [[1, 2, 3], [4, 5, 6], [7, 8, 9]]\n",
    "sum=0\n",
    "for i in matrix:\n",
    "    for j in i:\n",
    "        sum=sum+j\n",
    "        \n",
    "print(sum)\n",
    "        \n"
   ]
  },
  {
   "cell_type": "code",
   "execution_count": null,
   "id": "e39fcb9b-fc76-47c0-8d5a-82687f7d5b11",
   "metadata": {},
   "outputs": [],
   "source": []
  }
 ],
 "metadata": {
  "kernelspec": {
   "display_name": "Python [conda env:base] *",
   "language": "python",
   "name": "conda-base-py"
  },
  "language_info": {
   "codemirror_mode": {
    "name": "ipython",
    "version": 3
   },
   "file_extension": ".py",
   "mimetype": "text/x-python",
   "name": "python",
   "nbconvert_exporter": "python",
   "pygments_lexer": "ipython3",
   "version": "3.12.7"
  }
 },
 "nbformat": 4,
 "nbformat_minor": 5
}
