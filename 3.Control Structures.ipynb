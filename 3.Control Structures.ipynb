{
 "cells": [
  {
   "cell_type": "code",
   "execution_count": null,
   "id": "f9d16de6-2a17-44f3-aac2-4f8b44300ffc",
   "metadata": {},
   "outputs": [],
   "source": [
    "age=int(input(\"enter age of employee\"))\n",
    "if(age>=18):\n",
    "    print(\"adult\")"
   ]
  },
  {
   "cell_type": "code",
   "execution_count": null,
   "id": "e78bfac1-9428-49b4-91d6-300a45025a8b",
   "metadata": {},
   "outputs": [],
   "source": [
    "age=int(input(\"enter age\"))\n",
    "if(age<18):\n",
    "    print(\"children\")\n",
    "else:\n",
    "    print(\"adult\")"
   ]
  },
  {
   "cell_type": "code",
   "execution_count": null,
   "id": "af9ffc7c-521a-4e2a-874e-518931da62d6",
   "metadata": {},
   "outputs": [],
   "source": [
    "age=int(input(\"enter age\"))"
   ]
  },
  {
   "cell_type": "code",
   "execution_count": null,
   "id": "04eb8f4f-7dc7-4d26-917e-777bb65b5619",
   "metadata": {},
   "outputs": [],
   "source": [
    "if(age<18):\n",
    "    print(\"children\")\n",
    "elif(age<35):\n",
    "    print(\"adult\")\n",
    "elif(age<59):\n",
    "    print(\"citizen\")\n",
    "else:\n",
    "    print(\"senior citizen\")\n",
    "    \n",
    "    "
   ]
  },
  {
   "cell_type": "code",
   "execution_count": 13,
   "id": "7ff70efa-4258-473c-ae63-4650361c8723",
   "metadata": {},
   "outputs": [
    {
     "name": "stdout",
     "output_type": "stream",
     "text": [
      "below 10\n",
      "below 20 but greater than 10\n",
      "below 20 but greater than 10\n",
      "20\n",
      "20\n"
     ]
    }
   ],
   "source": [
    "list=[1,10,11,20,30]\n",
    "for num in list:\n",
    "    if(num<10):\n",
    "        print(\"below 10\")\n",
    "    elif(num<20):\n",
    "        print(\"below 20 but greater than 10\")\n",
    "    else:\n",
    "        print(\"20\")"
   ]
  },
  {
   "cell_type": "code",
   "execution_count": 15,
   "id": "b6c9fff7-d499-424d-a76b-fb524fea9247",
   "metadata": {},
   "outputs": [
    {
     "name": "stdin",
     "output_type": "stream",
     "text": [
      "enter a num 3\n"
     ]
    },
    {
     "name": "stdout",
     "output_type": "stream",
     "text": [
      "odd\n"
     ]
    }
   ],
   "source": [
    "num-=int(input(\"enter a num\"))\n",
    "if (num%2==0):\n",
    "    print(\"even\")\n",
    "else:\n",
    "    print(\"odd\")"
   ]
  },
  {
   "cell_type": "code",
   "execution_count": 25,
   "id": "e91d63c4-3c11-4150-821d-7c05b21743b7",
   "metadata": {},
   "outputs": [],
   "source": [
    "list=range(0,10)\n"
   ]
  },
  {
   "cell_type": "code",
   "execution_count": 27,
   "id": "1267de5e-fea5-4900-9ae1-b81a8654ed18",
   "metadata": {},
   "outputs": [
    {
     "name": "stdout",
     "output_type": "stream",
     "text": [
      "0\n",
      "1\n",
      "2\n",
      "3\n",
      "4\n",
      "5\n",
      "6\n",
      "7\n",
      "8\n",
      "9\n"
     ]
    }
   ],
   "source": [
    "for num in list:\n",
    "    print(num)"
   ]
  },
  {
   "cell_type": "code",
   "execution_count": 31,
   "id": "777c943f-7a21-4b0e-a8ad-306855e887e4",
   "metadata": {},
   "outputs": [
    {
     "name": "stdout",
     "output_type": "stream",
     "text": [
      "0\n",
      "3\n",
      "6\n",
      "9\n",
      "12\n",
      "15\n",
      "18\n"
     ]
    }
   ],
   "source": [
    "num=range(0,20,3)\n",
    "for n in num:\n",
    "    print(n)"
   ]
  },
  {
   "cell_type": "code",
   "execution_count": null,
   "id": "828bf1f9-324b-4962-a626-2aff4289b493",
   "metadata": {},
   "outputs": [],
   "source": []
  }
 ],
 "metadata": {
  "kernelspec": {
   "display_name": "Python [conda env:base] *",
   "language": "python",
   "name": "conda-base-py"
  },
  "language_info": {
   "codemirror_mode": {
    "name": "ipython",
    "version": 3
   },
   "file_extension": ".py",
   "mimetype": "text/x-python",
   "name": "python",
   "nbconvert_exporter": "python",
   "pygments_lexer": "ipython3",
   "version": "3.12.7"
  }
 },
 "nbformat": 4,
 "nbformat_minor": 5
}
