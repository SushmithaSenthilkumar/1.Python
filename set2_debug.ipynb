{
 "cells": [
  {
   "cell_type": "code",
   "execution_count": 1,
   "id": "90e9fa4e",
   "metadata": {},
   "outputs": [
    {
     "ename": "NameError",
     "evalue": "name 'Math' is not defined",
     "output_type": "error",
     "traceback": [
      "\u001b[1;31m---------------------------------------------------------------------------\u001b[0m",
      "\u001b[1;31mNameError\u001b[0m                                 Traceback (most recent call last)",
      "Cell \u001b[1;32mIn[1], line 3\u001b[0m\n\u001b[0;32m      1\u001b[0m \u001b[38;5;66;03m#1.Find the error in the following Python code:\u001b[39;00m\n\u001b[0;32m      2\u001b[0m \u001b[38;5;28;01mimport\u001b[39;00m \u001b[38;5;21;01mmath\u001b[39;00m\n\u001b[1;32m----> 3\u001b[0m \u001b[38;5;28mprint\u001b[39m(Math\u001b[38;5;241m.\u001b[39msqrt(\u001b[38;5;241m16\u001b[39m))\n",
      "\u001b[1;31mNameError\u001b[0m: name 'Math' is not defined"
     ]
    }
   ],
   "source": [
    "#1.Find the error in the following Python code:\n",
    "import math\n",
    "print(Math.sqrt(16))\n",
    "#not capital M its math.sqrt(16)\n"
   ]
  },
  {
   "cell_type": "code",
   "execution_count": 3,
   "id": "40e003b9-48e9-41ed-9ad0-38dd40176fed",
   "metadata": {},
   "outputs": [
    {
     "name": "stdout",
     "output_type": "stream",
     "text": [
      "4.0\n"
     ]
    }
   ],
   "source": [
    "import math\n",
    "print(math.sqrt(16))"
   ]
  },
  {
   "cell_type": "code",
   "execution_count": 7,
   "id": "55520fd2",
   "metadata": {},
   "outputs": [
    {
     "ename": "UnboundLocalError",
     "evalue": "cannot access local variable 'x' where it is not associated with a value",
     "output_type": "error",
     "traceback": [
      "\u001b[1;31m---------------------------------------------------------------------------\u001b[0m",
      "\u001b[1;31mUnboundLocalError\u001b[0m                         Traceback (most recent call last)",
      "Cell \u001b[1;32mIn[7], line 7\u001b[0m\n\u001b[0;32m      4\u001b[0m     \u001b[38;5;28mprint\u001b[39m(x)\n\u001b[0;32m      6\u001b[0m x \u001b[38;5;241m=\u001b[39m \u001b[38;5;241m10\u001b[39m\n\u001b[1;32m----> 7\u001b[0m my_function()\n",
      "Cell \u001b[1;32mIn[7], line 3\u001b[0m, in \u001b[0;36mmy_function\u001b[1;34m()\u001b[0m\n\u001b[0;32m      2\u001b[0m \u001b[38;5;28;01mdef\u001b[39;00m \u001b[38;5;21mmy_function\u001b[39m():\n\u001b[1;32m----> 3\u001b[0m     x \u001b[38;5;241m+\u001b[39m\u001b[38;5;241m=\u001b[39m \u001b[38;5;241m5\u001b[39m\n\u001b[0;32m      4\u001b[0m     \u001b[38;5;28mprint\u001b[39m(x)\n",
      "\u001b[1;31mUnboundLocalError\u001b[0m: cannot access local variable 'x' where it is not associated with a value"
     ]
    }
   ],
   "source": [
    "#2.Find the error in the following Python code:\n",
    "def my_function():\n",
    "    x += 5\n",
    "    print(x)\n",
    "\n",
    "x = 10\n",
    "my_function()\n",
    "#x no value and no parameter passed\n"
   ]
  },
  {
   "cell_type": "code",
   "execution_count": 9,
   "id": "9ac8f984-5327-4e3c-8f6d-708fea277de1",
   "metadata": {},
   "outputs": [
    {
     "name": "stdout",
     "output_type": "stream",
     "text": [
      "15\n"
     ]
    }
   ],
   "source": [
    "def my_function(x):\n",
    "    x+=5\n",
    "    print(x)\n",
    "my_function(10)"
   ]
  },
  {
   "cell_type": "code",
   "execution_count": 13,
   "id": "f23899ca",
   "metadata": {},
   "outputs": [
    {
     "ename": "SyntaxError",
     "evalue": "invalid syntax. Maybe you meant '==' or ':=' instead of '='? (3375144481.py, line 3)",
     "output_type": "error",
     "traceback": [
      "\u001b[1;36m  Cell \u001b[1;32mIn[13], line 3\u001b[1;36m\u001b[0m\n\u001b[1;33m    if x = 10:\u001b[0m\n\u001b[1;37m       ^\u001b[0m\n\u001b[1;31mSyntaxError\u001b[0m\u001b[1;31m:\u001b[0m invalid syntax. Maybe you meant '==' or ':=' instead of '='?\n"
     ]
    }
   ],
   "source": [
    "#3.\n",
    "x = 5\n",
    "if x = 10:\n",
    "    print(\"x is 10\")\n",
    "# double equal to \n"
   ]
  },
  {
   "cell_type": "code",
   "execution_count": 11,
   "id": "15c5d1bf-aa5c-47e3-a965-c472d824e9cc",
   "metadata": {},
   "outputs": [],
   "source": [
    "x=5\n",
    "if x==10:\n",
    "    print(\"x is 10\")"
   ]
  },
  {
   "cell_type": "code",
   "execution_count": 19,
   "id": "c644c2f2",
   "metadata": {},
   "outputs": [
    {
     "name": "stdout",
     "output_type": "stream",
     "text": [
      "None\n"
     ]
    }
   ],
   "source": [
    "#4.\n",
    "numbers = [5, 3, 8, 2]\n",
    "print(numbers.sort())\n",
    "#array or list must be sorted and then printed.\n",
    "#printing a method will not return anything\n"
   ]
  },
  {
   "cell_type": "code",
   "execution_count": 17,
   "id": "26fb1d52-6e43-48ad-82a7-7ea8d8361cf6",
   "metadata": {},
   "outputs": [
    {
     "name": "stdout",
     "output_type": "stream",
     "text": [
      "[2, 3, 5, 8]\n"
     ]
    }
   ],
   "source": [
    "numbers=[5,3,8,2]\n",
    "numbers.sort()\n",
    "print(numbers)"
   ]
  },
  {
   "cell_type": "code",
   "execution_count": 21,
   "id": "c6bc9bfb",
   "metadata": {},
   "outputs": [
    {
     "name": "stdout",
     "output_type": "stream",
     "text": [
      "None\n"
     ]
    }
   ],
   "source": [
    "#5.\n",
    "def square(n):\n",
    "    n * n\n",
    "\n",
    "print(square(4))\n",
    "#nothing will be printed as the defnition prints or returns nothing\n"
   ]
  },
  {
   "cell_type": "code",
   "execution_count": 23,
   "id": "f1a1ded3-37f6-46cd-a275-6e11c2690b04",
   "metadata": {},
   "outputs": [
    {
     "name": "stdout",
     "output_type": "stream",
     "text": [
      "16\n"
     ]
    }
   ],
   "source": [
    "def square(n):\n",
    "    n*=n\n",
    "    print(n)\n",
    "\n",
    "square(4)"
   ]
  },
  {
   "cell_type": "code",
   "execution_count": 25,
   "id": "3a9dbcc0",
   "metadata": {},
   "outputs": [
    {
     "ename": "TypeError",
     "evalue": "'tuple' object does not support item assignment",
     "output_type": "error",
     "traceback": [
      "\u001b[1;31m---------------------------------------------------------------------------\u001b[0m",
      "\u001b[1;31mTypeError\u001b[0m                                 Traceback (most recent call last)",
      "Cell \u001b[1;32mIn[25], line 3\u001b[0m\n\u001b[0;32m      1\u001b[0m \u001b[38;5;66;03m#6.\u001b[39;00m\n\u001b[0;32m      2\u001b[0m my_tuple \u001b[38;5;241m=\u001b[39m (\u001b[38;5;241m1\u001b[39m, \u001b[38;5;241m2\u001b[39m, \u001b[38;5;241m3\u001b[39m)\n\u001b[1;32m----> 3\u001b[0m my_tuple[\u001b[38;5;241m1\u001b[39m] \u001b[38;5;241m=\u001b[39m \u001b[38;5;241m5\u001b[39m\n",
      "\u001b[1;31mTypeError\u001b[0m: 'tuple' object does not support item assignment"
     ]
    }
   ],
   "source": [
    "#6.\n",
    "my_tuple = (1, 2, 3)\n",
    "my_tuple[1] = 5\n",
    "#tuple is immutable"
   ]
  },
  {
   "cell_type": "code",
   "execution_count": 51,
   "id": "4a72685b",
   "metadata": {},
   "outputs": [
    {
     "ename": "TypeError",
     "evalue": "not enough arguments for format string",
     "output_type": "error",
     "traceback": [
      "\u001b[1;31m---------------------------------------------------------------------------\u001b[0m",
      "\u001b[1;31mTypeError\u001b[0m                                 Traceback (most recent call last)",
      "Cell \u001b[1;32mIn[51], line 4\u001b[0m\n\u001b[0;32m      2\u001b[0m name \u001b[38;5;241m=\u001b[39m \u001b[38;5;124m\"\u001b[39m\u001b[38;5;124mAlice\u001b[39m\u001b[38;5;124m\"\u001b[39m\n\u001b[0;32m      3\u001b[0m age \u001b[38;5;241m=\u001b[39m \u001b[38;5;241m25\u001b[39m\n\u001b[1;32m----> 4\u001b[0m \u001b[38;5;28mprint\u001b[39m(\u001b[38;5;124m\"\u001b[39m\u001b[38;5;124mMy name is \u001b[39m\u001b[38;5;132;01m%s\u001b[39;00m\u001b[38;5;124m and I am \u001b[39m\u001b[38;5;132;01m%d\u001b[39;00m\u001b[38;5;124m years old\u001b[39m\u001b[38;5;124m\"\u001b[39m \u001b[38;5;241m%\u001b[39m (name))\n",
      "\u001b[1;31mTypeError\u001b[0m: not enough arguments for format string"
     ]
    }
   ],
   "source": [
    "#7.\n",
    "name = \"Alice\"\n",
    "age = 25\n",
    "print(\"My name is %s and I am %d years old\" % (name))\n",
    "#% d not specified\n"
   ]
  },
  {
   "cell_type": "code",
   "execution_count": 63,
   "id": "910ca3b7-54a4-4d33-94eb-61efabfe97e7",
   "metadata": {},
   "outputs": [
    {
     "name": "stdout",
     "output_type": "stream",
     "text": [
      "My name is Alice and I am 25 years old\n"
     ]
    }
   ],
   "source": [
    "name = \"Alice\"\n",
    "age = 25\n",
    "print(f\"My name is {name} and I am {age} years old\")"
   ]
  },
  {
   "cell_type": "code",
   "execution_count": 49,
   "id": "3de969fe",
   "metadata": {},
   "outputs": [],
   "source": [
    "#8.\n",
    "a = [1, 2, 3]\n",
    "b = [1, 2, 3]\n",
    "if a is b:\n",
    "    print(\"Lists are equal\")\n",
    "    #a==b , print nothing no condition checked\n"
   ]
  },
  {
   "cell_type": "code",
   "execution_count": 33,
   "id": "dbe38465",
   "metadata": {},
   "outputs": [],
   "source": [
    "#9.\n",
    "for i in range(5, 1):\n",
    "    print(i)\n",
    "#the step is not specified, no number after 5)\n"
   ]
  },
  {
   "cell_type": "code",
   "execution_count": 45,
   "id": "b314c5be-7db8-4240-b9db-cdefa2d72e7c",
   "metadata": {},
   "outputs": [
    {
     "name": "stdout",
     "output_type": "stream",
     "text": [
      "5\n",
      "4\n",
      "3\n",
      "2\n"
     ]
    }
   ],
   "source": [
    "for i in range(5,1,-1):\n",
    "    print(i)"
   ]
  },
  {
   "cell_type": "code",
   "execution_count": 27,
   "id": "30cb0523",
   "metadata": {},
   "outputs": [
    {
     "ename": "NameError",
     "evalue": "name 'name' is not defined",
     "output_type": "error",
     "traceback": [
      "\u001b[1;31m---------------------------------------------------------------------------\u001b[0m",
      "\u001b[1;31mNameError\u001b[0m                                 Traceback (most recent call last)",
      "Cell \u001b[1;32mIn[27], line 3\u001b[0m\n\u001b[0;32m      1\u001b[0m \u001b[38;5;66;03m#10.\u001b[39;00m\n\u001b[0;32m      2\u001b[0m student \u001b[38;5;241m=\u001b[39m {\u001b[38;5;124m\"\u001b[39m\u001b[38;5;124mname\u001b[39m\u001b[38;5;124m\"\u001b[39m: \u001b[38;5;124m\"\u001b[39m\u001b[38;5;124mJohn\u001b[39m\u001b[38;5;124m\"\u001b[39m, \u001b[38;5;124m\"\u001b[39m\u001b[38;5;124mage\u001b[39m\u001b[38;5;124m\"\u001b[39m: \u001b[38;5;241m20\u001b[39m}\n\u001b[1;32m----> 3\u001b[0m \u001b[38;5;28mprint\u001b[39m(student[name])\n",
      "\u001b[1;31mNameError\u001b[0m: name 'name' is not defined"
     ]
    }
   ],
   "source": [
    "#10.\n",
    "student = {\"name\": \"John\", \"age\": 20}\n",
    "print(student[name])\n",
    "#name as to in paranthesis\n"
   ]
  },
  {
   "cell_type": "code",
   "execution_count": 29,
   "id": "098913c4-70a8-4797-9d05-2fb1c371773e",
   "metadata": {},
   "outputs": [
    {
     "name": "stdout",
     "output_type": "stream",
     "text": [
      "john\n"
     ]
    }
   ],
   "source": [
    "student={\"name\":\"john\",\"age\":20}\n",
    "print(student[\"name\"])"
   ]
  },
  {
   "cell_type": "code",
   "execution_count": null,
   "id": "3aa8c7d1-8ad8-4f0d-a4e8-e949597bd6ba",
   "metadata": {},
   "outputs": [],
   "source": []
  }
 ],
 "metadata": {
  "kernelspec": {
   "display_name": "Python [conda env:base] *",
   "language": "python",
   "name": "conda-base-py"
  },
  "language_info": {
   "codemirror_mode": {
    "name": "ipython",
    "version": 3
   },
   "file_extension": ".py",
   "mimetype": "text/x-python",
   "name": "python",
   "nbconvert_exporter": "python",
   "pygments_lexer": "ipython3",
   "version": "3.12.7"
  }
 },
 "nbformat": 4,
 "nbformat_minor": 5
}
