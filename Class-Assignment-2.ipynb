{
 "cells": [
  {
   "cell_type": "code",
   "execution_count": 1,
   "id": "c023405f-f529-41ed-88ed-57fcc5dd57fe",
   "metadata": {},
   "outputs": [],
   "source": [
    "from ClassAssignment2_Library import ClassAssignment2_class"
   ]
  },
  {
   "cell_type": "code",
   "execution_count": 13,
   "id": "529e8c33-b787-4858-a9ed-4b74cf5d1f14",
   "metadata": {},
   "outputs": [
    {
     "name": "stdout",
     "output_type": "stream",
     "text": [
      "Sub-fields in AI are:\n",
      "Machine Learning\n",
      "Neural Networks\n",
      "Vision\n",
      "Robotics\n",
      "Speech Processing\n",
      "Natural Language Processing\n"
     ]
    }
   ],
   "source": [
    "AI_Subfields=ClassAssignment2_class.Subfields()"
   ]
  },
  {
   "cell_type": "code",
   "execution_count": 15,
   "id": "10d6168b-af80-425c-baea-a4a98a7bbeec",
   "metadata": {},
   "outputs": [
    {
     "name": "stdin",
     "output_type": "stream",
     "text": [
      "Enter a number:  54252\n"
     ]
    },
    {
     "name": "stdout",
     "output_type": "stream",
     "text": [
      "54252 is Even Number\n"
     ]
    }
   ],
   "source": [
    "Odd_Even_Check=ClassAssignment2_class.OddEven()"
   ]
  },
  {
   "cell_type": "code",
   "execution_count": 17,
   "id": "6d91b375-57f6-4862-94d7-d11358f0f0dc",
   "metadata": {},
   "outputs": [
    {
     "name": "stdin",
     "output_type": "stream",
     "text": [
      "Enter gender: Male\n",
      "Enter age: 20\n"
     ]
    },
    {
     "name": "stdout",
     "output_type": "stream",
     "text": [
      "Not Eligible\n"
     ]
    }
   ],
   "source": [
    "Marriage_Eligibilty=ClassAssignment2_class.Eligible()"
   ]
  },
  {
   "cell_type": "code",
   "execution_count": 19,
   "id": "21c0e3f4-6d74-4d2e-bb65-8c6aace093d9",
   "metadata": {},
   "outputs": [
    {
     "name": "stdin",
     "output_type": "stream",
     "text": [
      "Subject1= 98\n",
      "Subject2= 87\n",
      "Subject3= 95\n",
      "Subject4= 95\n",
      "Subject5= 93\n"
     ]
    },
    {
     "name": "stdout",
     "output_type": "stream",
     "text": [
      "Total: 468.0\n",
      "Percentage: 93.60000000000001\n"
     ]
    }
   ],
   "source": [
    "Percentage_Scored=ClassAssignment2_class.percentage()"
   ]
  },
  {
   "cell_type": "code",
   "execution_count": 21,
   "id": "dcb7ab12-90a2-4170-98ae-271f7def0fd7",
   "metadata": {},
   "outputs": [
    {
     "name": "stdin",
     "output_type": "stream",
     "text": [
      "Height: 32\n",
      "Breadth: 34\n"
     ]
    },
    {
     "name": "stdout",
     "output_type": "stream",
     "text": [
      "Area formula: (Height*Breadth)/2 \n",
      "Area of Triangle: 544.0\n"
     ]
    },
    {
     "name": "stdin",
     "output_type": "stream",
     "text": [
      "Height1: 2\n",
      "Height2: 4\n",
      "Breadth: 4\n"
     ]
    },
    {
     "name": "stdout",
     "output_type": "stream",
     "text": [
      "Perimeter formula: Height1+Height2+Breadth \n",
      "Perimeter of Triangle: 10.0\n"
     ]
    }
   ],
   "source": [
    "Triangle_Values=ClassAssignment2_class.triangle()\n"
   ]
  },
  {
   "cell_type": "code",
   "execution_count": null,
   "id": "c1de8b80-11ef-4c8f-b867-ebd4482420b8",
   "metadata": {},
   "outputs": [],
   "source": []
  }
 ],
 "metadata": {
  "kernelspec": {
   "display_name": "Python [conda env:base] *",
   "language": "python",
   "name": "conda-base-py"
  },
  "language_info": {
   "codemirror_mode": {
    "name": "ipython",
    "version": 3
   },
   "file_extension": ".py",
   "mimetype": "text/x-python",
   "name": "python",
   "nbconvert_exporter": "python",
   "pygments_lexer": "ipython3",
   "version": "3.12.7"
  }
 },
 "nbformat": 4,
 "nbformat_minor": 5
}
