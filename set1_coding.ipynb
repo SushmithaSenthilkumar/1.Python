{
 "cells": [
  {
   "cell_type": "code",
   "execution_count": 4,
   "id": "5fd5c475",
   "metadata": {},
   "outputs": [
    {
     "name": "stdout",
     "output_type": "stream",
     "text": [
      "1 2 3 4 5 "
     ]
    }
   ],
   "source": [
    "#1.Write a Python program that prints numbers from 1 to 5.\n",
    "#Expected Output:\n",
    "#1 2 3 4 5\n",
    "list=[1,2,3,4,5]\n",
    "for i in list:\n",
    "    print(i,end=\" \")\n"
   ]
  },
  {
   "cell_type": "code",
   "execution_count": 16,
   "id": "3c8bc472",
   "metadata": {},
   "outputs": [
    {
     "name": "stdout",
     "output_type": "stream",
     "text": [
      "2 4 6 8 10 "
     ]
    }
   ],
   "source": [
    "#2.Write a Python program to print the first 5 even numbers. Expected Output:\n",
    "#2 4 6 8 10\n",
    "list=range(1,11)\n",
    "for i in list:\n",
    "    if(i%2==0):\n",
    "        print(i, end=\" \")\n",
    "    \n"
   ]
  },
  {
   "cell_type": "code",
   "execution_count": 20,
   "id": "5e7af211",
   "metadata": {},
   "outputs": [
    {
     "name": "stdout",
     "output_type": "stream",
     "text": [
      "55\n"
     ]
    }
   ],
   "source": [
    "#3.Write a Python program to print the sum of numbers from 1 to 10. \n",
    "#Expected Output:55\n",
    "list=range(1,11)\n",
    "sum=0\n",
    "for i in list:\n",
    "    sum=sum+i\n",
    "print(sum)\n",
    "\n"
   ]
  },
  {
   "cell_type": "code",
   "execution_count": 58,
   "id": "ac09aa1a",
   "metadata": {},
   "outputs": [
    {
     "name": "stdout",
     "output_type": "stream",
     "text": [
      "120\n"
     ]
    }
   ],
   "source": [
    "#4.Write a Python function to find the factorial of 5. Expected Output:\n",
    "#120\n",
    "def factorial(num):\n",
    "    fact=1\n",
    "    for i in range(1,num+1):\n",
    "        fact=fact*i;\n",
    "    print(fact)\n",
    "    \n",
    "\n",
    "factorial(5)\n",
    "   \n"
   ]
  },
  {
   "cell_type": "code",
   "execution_count": 28,
   "id": "e4b74144-b8bb-45e3-a6f5-bd7bfbb81dc3",
   "metadata": {},
   "outputs": [
    {
     "name": "stdout",
     "output_type": "stream",
     "text": [
      "120\n"
     ]
    }
   ],
   "source": [
    "import math\n",
    "num=5\n",
    "factorial=math.factorial(num)\n",
    "print(factorial)"
   ]
  },
  {
   "cell_type": "code",
   "execution_count": 74,
   "id": "8ab9fc8a",
   "metadata": {},
   "outputs": [
    {
     "name": "stdin",
     "output_type": "stream",
     "text": [
      " 7\n"
     ]
    },
    {
     "name": "stdout",
     "output_type": "stream",
     "text": [
      " is prime number\n"
     ]
    }
   ],
   "source": [
    "#5.Write a Python program to check if a number is prime. Expected Output (for input 7):\n",
    "#7 is a prime number\n",
    "num=int(input())\n",
    "if(num>1):\n",
    "    for i in range(2,num):\n",
    "        if(num%i==0):\n",
    "            print(\"is not prime\")\n",
    "            break\n",
    "        else:\n",
    "            print(\" is prime number\")\n",
    "            break\n",
    "else:          \n",
    "    print(\"is not prime\")\n",
    "\n",
    "\n",
    "\n",
    "\n",
    "\n"
   ]
  },
  {
   "cell_type": "code",
   "execution_count": 66,
   "id": "7345c017-dd9e-471d-87a3-902e29e78d9d",
   "metadata": {},
   "outputs": [
    {
     "name": "stdout",
     "output_type": "stream",
     "text": [
      "7  is prime number\n"
     ]
    }
   ],
   "source": [
    "def prime(num):\n",
    "    if(num<=1):\n",
    "        print(num,\"is not prime\")\n",
    "    else:\n",
    "        for i in range(2,num):\n",
    "            if(num%i==0):\n",
    "                print(num,\"is not prime number\")\n",
    "                break\n",
    "            else:\n",
    "                print(num,\" is prime number\")\n",
    "                break\n",
    "prime()\n",
    "\n"
   ]
  },
  {
   "cell_type": "code",
   "execution_count": null,
   "id": "1c804eb7-c6ae-400a-8b37-7b05f568802d",
   "metadata": {},
   "outputs": [],
   "source": []
  }
 ],
 "metadata": {
  "kernelspec": {
   "display_name": "Python [conda env:base] *",
   "language": "python",
   "name": "conda-base-py"
  },
  "language_info": {
   "codemirror_mode": {
    "name": "ipython",
    "version": 3
   },
   "file_extension": ".py",
   "mimetype": "text/x-python",
   "name": "python",
   "nbconvert_exporter": "python",
   "pygments_lexer": "ipython3",
   "version": "3.12.7"
  }
 },
 "nbformat": 4,
 "nbformat_minor": 5
}
