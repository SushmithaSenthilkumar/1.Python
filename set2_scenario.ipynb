{
 "cells": [
  {
   "cell_type": "code",
   "execution_count": 13,
   "id": "30a8adee-ec71-4eff-a705-93cd05d5f0c7",
   "metadata": {},
   "outputs": [
    {
     "name": "stdin",
     "output_type": "stream",
     "text": [
      "enter the amount -29\n"
     ]
    },
    {
     "name": "stdout",
     "output_type": "stream",
     "text": [
      "-29.0 is negative\n"
     ]
    }
   ],
   "source": [
    "number=float(input(\"enter the amount\"))\n",
    "if(number==0):\n",
    "    print(f\"{number} is zero\")\n",
    "elif(number>0):\n",
    "    print(f\"{number} is positive\")\n",
    "else:\n",
    "    print(f\"{number} is negative\")"
   ]
  },
  {
   "cell_type": "code",
   "execution_count": 55,
   "id": "cb4ba005-d289-4f89-958b-afa920d084de",
   "metadata": {},
   "outputs": [
    {
     "name": "stdin",
     "output_type": "stream",
     "text": [
      "enter the passcode 12\n"
     ]
    },
    {
     "name": "stdout",
     "output_type": "stream",
     "text": [
      "3\n"
     ]
    }
   ],
   "source": [
    "passcode=int(input(\"enter the passcode\"))\n",
    "digits=[int(i) for i in str(passcode)]\n",
    "total=0\n",
    "for i in digits:\n",
    "    total=total+i\n",
    "    \n",
    "print(total)\n",
    "\n"
   ]
  },
  {
   "cell_type": "code",
   "execution_count": 65,
   "id": "4141bd9e-62bc-44cb-8446-519892e09327",
   "metadata": {},
   "outputs": [
    {
     "name": "stdin",
     "output_type": "stream",
     "text": [
      "enter transaction id: 12345\n"
     ]
    },
    {
     "name": "stdout",
     "output_type": "stream",
     "text": [
      "54321"
     ]
    }
   ],
   "source": [
    "id=int(input(\"enter transaction id:\"))\n",
    "digits=[int(i) for i in str(id)]\n",
    "digits.reverse()\n",
    "for i in digits:\n",
    "    print(i,end=\"\")\n",
    "    "
   ]
  },
  {
   "cell_type": "code",
   "execution_count": 81,
   "id": "fa9b7a56-d2ed-4582-bd42-fc996eb498c2",
   "metadata": {},
   "outputs": [
    {
     "name": "stdin",
     "output_type": "stream",
     "text": [
      "employee id: 4\n"
     ]
    },
    {
     "name": "stdout",
     "output_type": "stream",
     "text": [
      "id is not prime\n"
     ]
    }
   ],
   "source": [
    "id=int(input(\"employee id:\"))\n",
    "def prime():\n",
    "    if(id>1):\n",
    "        for i in range(2,id):\n",
    "            if id%i==0:\n",
    "                print(\"id is not prime\")\n",
    "                break\n",
    "        else:\n",
    "                print(\"id is prime\")\n",
    "    else:\n",
    "        print(\"not prime\")\n",
    "prime()\n",
    "            "
   ]
  },
  {
   "cell_type": "code",
   "execution_count": 27,
   "id": "cc124f22-28e9-4cd7-b14e-513e830b819a",
   "metadata": {},
   "outputs": [
    {
     "name": "stdin",
     "output_type": "stream",
     "text": [
      "enter a number: 5\n"
     ]
    },
    {
     "name": "stdout",
     "output_type": "stream",
     "text": [
      "120\n"
     ]
    }
   ],
   "source": [
    "num=int(input(\"enter a number:\"))\n",
    "fact=1\n",
    "for i in range(1,num+1):\n",
    "    fact=fact*i\n",
    "print(fact)"
   ]
  },
  {
   "cell_type": "code",
   "execution_count": 33,
   "id": "513c70c7-865c-46ff-9b47-c7fcee46f99a",
   "metadata": {},
   "outputs": [
    {
     "name": "stdin",
     "output_type": "stream",
     "text": [
      "enter a number: 0\n"
     ]
    },
    {
     "data": {
      "text/plain": [
       "1"
      ]
     },
     "execution_count": 33,
     "metadata": {},
     "output_type": "execute_result"
    }
   ],
   "source": [
    "def factorial(num):\n",
    "    if num==0:\n",
    "        return 1\n",
    "    else:\n",
    "        return num*factorial(num-1)\n",
    "\n",
    "num=int(input(\"enter a number:\"))\n",
    "factorial(num)\n"
   ]
  },
  {
   "cell_type": "code",
   "execution_count": 21,
   "id": "5e0bba00-de1e-45ec-9264-986dd8515246",
   "metadata": {},
   "outputs": [
    {
     "name": "stdin",
     "output_type": "stream",
     "text": [
      "enter a number: 153\n"
     ]
    },
    {
     "name": "stdout",
     "output_type": "stream",
     "text": [
      "[1, 5, 3]\n",
      "amstrong\n"
     ]
    }
   ],
   "source": [
    "num=int(input(\"enter a number:\"))\n",
    "digits=[int(i) for i in str(num)]\n",
    "print(digits)\n",
    "sum=0\n",
    "for i in digits:\n",
    "    sum=sum+(i**3)\n",
    "if sum==num:\n",
    "    print(\"amstrong\")\n",
    "else:\n",
    "    print(\"not amstrong\")\n",
    "\n",
    "\n"
   ]
  },
  {
   "cell_type": "code",
   "execution_count": 43,
   "id": "9e72518c-dda3-4365-b235-ffe79106be92",
   "metadata": {},
   "outputs": [
    {
     "name": "stdin",
     "output_type": "stream",
     "text": [
      "enter a string 123dog\n"
     ]
    },
    {
     "name": "stdout",
     "output_type": "stream",
     "text": [
      "g23do1"
     ]
    }
   ],
   "source": [
    "string=input(\"enter a string\")\n",
    "char=list(string)\n",
    "length=len(char)\n",
    "first_ch=char[0]\n",
    "last_ch=char[length-1]\n",
    "char[0]=last_ch\n",
    "char[length-1]=first_ch\n",
    "for i in char:\n",
    "    print(i,end=\"\")\n",
    "\n",
    "\n",
    "\n"
   ]
  },
  {
   "cell_type": "code",
   "execution_count": 131,
   "id": "86bf1c74-5eab-4117-96be-89722fa6721c",
   "metadata": {},
   "outputs": [
    {
     "name": "stdin",
     "output_type": "stream",
     "text": [
      "enter a decimal string 10\n",
      "enter a binary num 0001101\n"
     ]
    },
    {
     "name": "stdout",
     "output_type": "stream",
     "text": [
      "the binary equivalent of 10 is 0b1010\n",
      "the decimal equivalent of 0001101 is 13\n"
     ]
    }
   ],
   "source": [
    "deci_num=int(input(\"enter a decimal string\"))\n",
    "bin_num=input(\"enter a binary num\")\n",
    "deci_equi=int(bin_num,2)\n",
    "bin_equi=bin(deci_num)\n",
    "print(f\"the binary equivalent of {deci_num} is {bin_equi}\")\n",
    "print(f\"the decimal equivalent of {bin_num} is {deci_equi}\")\n",
    "\n"
   ]
  },
  {
   "cell_type": "code",
   "execution_count": 41,
   "id": "b833b2b1-e6a8-4925-8f90-ea5900b00151",
   "metadata": {},
   "outputs": [
    {
     "name": "stdin",
     "output_type": "stream",
     "text": [
      "enter a sentence: i ove my daughter \n"
     ]
    },
    {
     "name": "stdout",
     "output_type": "stream",
     "text": [
      "daughter\n"
     ]
    }
   ],
   "source": [
    "def longest_word(string):\n",
    "    substring=sentence.split(\" \")\n",
    "    longsubstring=0\n",
    "    for i in substring:\n",
    "        if(len(i)>longsubstring):\n",
    "            longsubstring=len(i)\n",
    "            long=i\n",
    "    print(long)\n",
    "    \n",
    "sentence=input(\"enter a sentence:\")\n",
    "longest_word(sentence)\n",
    "\n",
    "\n"
   ]
  },
  {
   "cell_type": "code",
   "execution_count": 39,
   "id": "2281d7f4-4436-4783-88e3-446b7f7751d1",
   "metadata": {},
   "outputs": [
    {
     "name": "stdin",
     "output_type": "stream",
     "text": [
      "string1: h I\n",
      "string2: i   h\n"
     ]
    },
    {
     "name": "stdout",
     "output_type": "stream",
     "text": [
      "anagram\n"
     ]
    }
   ],
   "source": [
    "def anagram(s1,s2):\n",
    "    s1=s1.replace(\" \",\"\")\n",
    "    s2=s2.replace(\" \",\"\")\n",
    "    s1lower=s1.lower()\n",
    "    s2lower=s2.lower()\n",
    "    s1sorted=sorted(s1lower)\n",
    "    s2sorted=sorted(s2lower)\n",
    "    if (len(s1lower)==len(s2lower) and s1sorted==s2sorted):\n",
    "        print(\"anagram\")\n",
    "    else:\n",
    "        print(\"not anagram\")\n",
    "\n",
    "str1=input(\"string1:\")\n",
    "str2=input(\"string2:\")\n",
    "anagram(str1,str2)\n"
   ]
  },
  {
   "cell_type": "code",
   "execution_count": null,
   "id": "c2e36a5c-3abe-4791-a5a4-3c2d7d8bb006",
   "metadata": {},
   "outputs": [],
   "source": []
  }
 ],
 "metadata": {
  "kernelspec": {
   "display_name": "Python [conda env:base] *",
   "language": "python",
   "name": "conda-base-py"
  },
  "language_info": {
   "codemirror_mode": {
    "name": "ipython",
    "version": 3
   },
   "file_extension": ".py",
   "mimetype": "text/x-python",
   "name": "python",
   "nbconvert_exporter": "python",
   "pygments_lexer": "ipython3",
   "version": "3.12.7"
  }
 },
 "nbformat": 4,
 "nbformat_minor": 5
}
